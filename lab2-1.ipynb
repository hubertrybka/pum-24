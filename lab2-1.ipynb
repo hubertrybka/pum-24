{
 "cells": [
  {
   "metadata": {},
   "cell_type": "markdown",
   "source": [
    "# Lab 2-1: Classes and objects in Python.\n",
    "\n",
    "---\n",
    "\n",
    "## Quick introduction to the Python random module\n",
    "\n",
    "The Python standard library includes a module called `random` that provides functions for generating pseudorandom numbers. To complete the exercises in this notebook, you may want to learn the following functions:"
   ],
   "id": "3cccb0301d36a2d6"
  },
  {
   "metadata": {
    "ExecuteTime": {
     "end_time": "2024-08-22T19:00:03.159402Z",
     "start_time": "2024-08-22T19:00:03.155020Z"
    }
   },
   "cell_type": "code",
   "source": [
    "import random\n",
    "\n",
    "random.random() # returns a random float between 0 and 1\n",
    "print('The output of random.random() is:', random.random())\n",
    "\n",
    "random.randint(0, 100) # returns a random integer between 0 and 100\n",
    "print('The output of random.randint(0, 100) is:', random.randint(0, 100))"
   ],
   "id": "58d0008be022ae69",
   "outputs": [
    {
     "name": "stdout",
     "output_type": "stream",
     "text": [
      "The output of random.random() is: 0.8066549796067415\n",
      "The output of random.randint(0, 100) is: 5\n"
     ]
    }
   ],
   "execution_count": 2
  },
  {
   "metadata": {
    "ExecuteTime": {
     "end_time": "2024-08-22T19:00:03.814605Z",
     "start_time": "2024-08-22T19:00:03.810297Z"
    }
   },
   "cell_type": "code",
   "source": [
    "movies = [\n",
    "    'Taxi Driver',\n",
    "    'Cars 3',\n",
    "    'How High',\n",
    "    'The Seventh Seal',\n",
    "    'Mean Girls',\n",
    "]\n",
    "\n",
    "random_movie = random.choices(movies, k=1) # returns k random elements from the list (as a list)\n",
    "print('Tonight we will watch', random_movie)"
   ],
   "id": "90b5523a205d1593",
   "outputs": [
    {
     "name": "stdout",
     "output_type": "stream",
     "text": [
      "Tonight we will watch ['The Seventh Seal']\n"
     ]
    }
   ],
   "execution_count": 3
  },
  {
   "metadata": {
    "ExecuteTime": {
     "end_time": "2024-08-22T19:00:06.091928Z",
     "start_time": "2024-08-22T19:00:06.087498Z"
    }
   },
   "cell_type": "code",
   "source": [
    "movie_preferences = {\n",
    "    'Taxi Driver': 0.1,\n",
    "    'Cars 3': 0.4,\n",
    "    'How High': 0.2,\n",
    "    'The Seventh Seal': 0,\n",
    "    'Mean Girls': 0.3 \n",
    "}\n",
    "\n",
    "movies = list(movie_preferences.keys())\n",
    "probabilities = list(movie_preferences.values())\n",
    "\n",
    "random.choices(movies, probabilities, k=1) # returns a random element from the list based on the probabilities given\n",
    "print('Eww, I would rather watch', random.choices(movies, probabilities))"
   ],
   "id": "8665fb947feb541c",
   "outputs": [
    {
     "name": "stdout",
     "output_type": "stream",
     "text": [
      "Eww, I would rather watch ['Cars 3']\n"
     ]
    }
   ],
   "execution_count": 4
  },
  {
   "metadata": {},
   "cell_type": "markdown",
   "source": [
    "## Exercise 1: Fair dice (1 point)\n",
    "\n",
    "1. Implement a class called `Die` that represents a fair six-sided die. The class should have a method called `roll_n` that simulates rolling $n$ identical dice and returns a list of the results."
   ],
   "id": "9b9ada932365520c"
  },
  {
   "metadata": {
    "ExecuteTime": {
     "end_time": "2024-08-22T19:00:21.036288Z",
     "start_time": "2024-08-22T19:00:21.033065Z"
    }
   },
   "cell_type": "code",
   "source": [
    "class Die:\n",
    "    def __init__(self):\n",
    "        ...\n",
    "    def roll_n(self, n):\n",
    "        ..."
   ],
   "id": "3d1c4f8c2cfd30a2",
   "outputs": [],
   "execution_count": 5
  },
  {
   "metadata": {},
   "cell_type": "markdown",
   "source": [
    "## Exercise 2: Unfair dice (2 points)\n",
    "\n",
    "1. Implement a class called `UnfairDie` that represents a **weighted** six-sided die. The class can be an extension of Die class, or you can write it from the start. The class should have a method called roll_n(n) that simulates rolling the die $n$ times and returns the mean of the rolls. The probabilities of rolling each face should be set by the user when creating a die object by passing a parameter probs, a list of six positive floats summing to one.\n",
    "2. What is the probability of rolling a mean of more than 15 and less than 25 when rolling 5 identical unfair dice?  \n",
    "The probabilities of rolling the faces 1-6 are given by a list [0.1, 0.1, 0.1, 0.25, 0.15, 0.3]. Conduct a simulation to estimate the probability."
   ],
   "id": "92d64c9c965c9e15"
  },
  {
   "metadata": {
    "ExecuteTime": {
     "end_time": "2024-08-21T13:28:14.836551Z",
     "start_time": "2024-08-21T13:28:14.827315Z"
    }
   },
   "cell_type": "code",
   "source": [
    "class UnfairDie:\n",
    "    ..."
   ],
   "id": "5cb542716cddc71d",
   "outputs": [],
   "execution_count": 2
  },
  {
   "metadata": {},
   "cell_type": "markdown",
   "source": [
    "## Exercise 3 (Plotting averages of dice rolls) (2 points)\n",
    "\n",
    "1. Create a function called `return_average`. The function should take a Die (or UnfairDie) object and a number of dice to roll $n$ as arguments. The function should return the mean result of rolling $n$ dice.\n",
    "\n",
    "2. Create a function called `return_n_averages`. The function should take a Die (or UnfairDie) object, a number of dice to roll $n$, and the number of times to repeat the experiment $k$. The function should roll $n$ dice $k$ times and return a list of $k$ mean results.\n",
    "\n",
    "3. Plot a histogram of the results of rolling $n$ = 10 fair dice $k$ = 50, 1000 and 10 000 times. The function `plot_means` which plots the histogram from a list of numbers is already implemented by me, and can be used out of the box. **You will learn how to prepare plots like this with seaborn and pyplot during the next labs**. What shape does this distribution converge to as the number of trials increases? Conduct the same experiment for unfair dice with probabilities [0.1, 0.1, 0.1, 0.25, 0.15, 0.3].."
   ],
   "id": "99640f4b1ebc48b1"
  },
  {
   "metadata": {
    "ExecuteTime": {
     "end_time": "2024-08-21T13:28:15.754499Z",
     "start_time": "2024-08-21T13:28:15.749335Z"
    }
   },
   "cell_type": "code",
   "source": [
    "def return_average(die, n):\n",
    "    ..."
   ],
   "id": "de5286b09f587b86",
   "outputs": [],
   "execution_count": 3
  },
  {
   "metadata": {
    "ExecuteTime": {
     "end_time": "2024-08-21T13:28:16.303523Z",
     "start_time": "2024-08-21T13:28:16.294592Z"
    }
   },
   "cell_type": "code",
   "source": [
    "def return_n_averages(die, n, k):\n",
    "    ..."
   ],
   "id": "17479113493007a4",
   "outputs": [],
   "execution_count": 4
  },
  {
   "metadata": {},
   "cell_type": "code",
   "outputs": [],
   "execution_count": null,
   "source": [
    "from src.helpers import plot_hist\n",
    "import warnings # This library is used to ignore warnings, don't worry about it for now\n",
    "warnings.filterwarnings('ignore')\n",
    "\n",
    "results = return_n_averages(...)\n",
    "plot_hist(results)"
   ],
   "id": "f5fa85db85e03126"
  },
  {
   "metadata": {},
   "cell_type": "markdown",
   "source": [
    "## Excercise 4 (Pachinko) (2 points)\n",
    "\n",
    "Pachinko is a Japanese gambling game played on a vertical board. The board has pegs protruding from the surface and the player has to drop a ball from the top. The ball bounces off the pegs and can land in one of specially designated pockets. The pockets have different values and the prize is determined by the pocket in which the ball lands.\n",
    "\n",
    "<center>\n",
    "    <p float=\"left\">\n",
    "        <img src=\"imgs/pachinko1.jpg\", width=300>\n",
    "        <img src=\"imgs/pachinko.png\", width=500>\n",
    "    </p>\n",
    "</center>\n",
    "\n",
    "The figure above shows an actual pachinko machine (left) and a simplified version of a pachinko board (right). Assume the ball has an equal chance of bouncing either left or right off each peg. \n",
    "\n",
    "One can simulate the results of such a game in many ways. One example is by assigning a value of 0 to each left bounce and 1 to each right bounce. As the ball falls through $n$ rows, its final position (bin index) is determined by the sum of the values in each row.\n",
    "\n",
    "1. Create a class called `Pachinko` that represents a simplified pachinko board of $k$ rows. The class should have a method called `drop_balls` that simulates dropping $n$ balls through the board and returns the list of $n$ integers, corresponding to the final position (bin index) of each ball.\n",
    "2. Create a function called `plot_pachinko`. It should take a Pachinko object and the number of balls $n$ as arguments. The function should simulate dropping $n$ balls through the board and return a histogram of the distribution of balls in all bins (you can use the `plot_hist` function from the previous exercise to return the histogram).\n",
    "3. Plot the histogram of the results of dropping 1000 balls through a pachinko board with $k=5, 10, 20$ rows. What shape does this distribution converge to as the number of rows increases? **Extra**: What exactly does this experiment have in common with means of multiple dice rolls?\n",
    "4. You encounter a 10-row pachinko machine. One game (equivalent of dropping one ball) costs you 10 yen. If the ball lands in either the first or last bin, you win 2500 yen. You can play as many times as you wish. Will this machine make the casino go bankrupt? Conduct a simulation to verify your prediction."
   ],
   "id": "8d83cb6fdfde6932"
  },
  {
   "metadata": {
    "ExecuteTime": {
     "end_time": "2024-08-21T12:52:17.241990Z",
     "start_time": "2024-08-21T12:52:17.235774Z"
    }
   },
   "cell_type": "code",
   "source": [
    "class Pachinko:\n",
    "    def __init__(self):\n",
    "        ...\n",
    "    \n",
    "    def drop_balls(self, n):\n",
    "        ..."
   ],
   "id": "da9bc3d270c6c315",
   "outputs": [],
   "execution_count": 60
  },
  {
   "metadata": {
    "ExecuteTime": {
     "end_time": "2024-08-21T12:52:20.401368Z",
     "start_time": "2024-08-21T12:52:20.392136Z"
    }
   },
   "cell_type": "code",
   "source": [
    "from src.helpers import plot_hist\n",
    "\n",
    "def plot_pachinko(pachinko, n):\n",
    "    ...\n",
    "    return plot_hist(...)"
   ],
   "id": "ebb7b2ba169fdab1",
   "outputs": [],
   "execution_count": 61
  },
  {
   "metadata": {},
   "cell_type": "markdown",
   "source": [
    "## *Python dunder methods\n",
    "\n",
    "We have already encountered some special methods in Python, such as `__init__(self, args)`, which is called only once when an object is created. These methods are called dunder methods (short for *double underscore*). They are used to define how objects of a class behave when they are used in conjunction with built-in Python functions. For example, the `__str__(self)` method is called when an object is passed to the `print` function."
   ],
   "id": "caf6a4872ca870cf"
  },
  {
   "metadata": {},
   "cell_type": "markdown",
   "source": [
    "Other useful dunder methods:\n",
    "- `__call__(self, args)`: called when the object is called as a function. This is useful when you want to create objects that behave like functions.\n",
    "- `__str__(self)`: called by the `print` function. It should return a string representation of the object.\n",
    "- `__add__(self, other)`: called by the `+` operator. It should return the sum of two objects (*whatever that means for your class*).\n",
    "- `__len__(self)`: called by the `len` function. It should return the length of the object (*whatever that means for your class*).\n",
    "- `__getitem__(self, key)`: called to get an item from the object using square brackets. It should return the item at the given key (*useful if your class is a data-related*).\n",
    "- `__eq__(self, other)`: called by the `==` operator. It should return `True` if two objects are equal.\n",
    "\n",
    "There are many other dunder methods that you can implement in your classes. You can find a list of them [here](https://docs.python.org/3/reference/datamodel.html#special-method-names)."
   ],
   "id": "9aad4b16720f8590"
  }
 ],
 "metadata": {
  "kernelspec": {
   "display_name": "Python 3",
   "language": "python",
   "name": "python3"
  },
  "language_info": {
   "codemirror_mode": {
    "name": "ipython",
    "version": 2
   },
   "file_extension": ".py",
   "mimetype": "text/x-python",
   "name": "python",
   "nbconvert_exporter": "python",
   "pygments_lexer": "ipython2",
   "version": "2.7.6"
  }
 },
 "nbformat": 4,
 "nbformat_minor": 5
}
