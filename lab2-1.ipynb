{
 "cells": [
  {
   "metadata": {},
   "cell_type": "markdown",
   "source": [
    "# Lab 2-1: Classes and objects in Python.\n",
    "\n",
    "---\n",
    "\n",
    "## Quick introduction to the Python random module\n",
    "\n",
    "The Python standard library includes a module called `random` that provides functions for generating pseudorandom numbers. To complete the exercises in this notebook, you may want to learn the following functions:"
   ],
   "id": "3cccb0301d36a2d6"
  },
  {
   "metadata": {
    "ExecuteTime": {
     "end_time": "2024-09-03T10:03:29.092065Z",
     "start_time": "2024-09-03T10:03:29.088552Z"
    }
   },
   "cell_type": "code",
   "source": [
    "import random\n",
    "\n",
    "random.random() # returns a random float between 0 and 1\n",
    "print('The output of random.random() is:', random.random())\n",
    "\n",
    "random.randint(0, 100) # returns a random integer between 0 and 100\n",
    "print('The output of random.randint(0, 100) is:', random.randint(0, 100))"
   ],
   "id": "58d0008be022ae69",
   "outputs": [
    {
     "name": "stdout",
     "output_type": "stream",
     "text": [
      "The output of random.random() is: 0.19940122720460107\n",
      "The output of random.randint(0, 100) is: 74\n"
     ]
    }
   ],
   "execution_count": 1
  },
  {
   "metadata": {
    "ExecuteTime": {
     "end_time": "2024-09-03T10:03:29.158478Z",
     "start_time": "2024-09-03T10:03:29.155461Z"
    }
   },
   "cell_type": "code",
   "source": [
    "movies = [\n",
    "    'Taxi Driver',\n",
    "    'Cars 3',\n",
    "    'How High',\n",
    "    'The Seventh Seal',\n",
    "    'Mean Girls',\n",
    "]\n",
    "\n",
    "random_movie = random.choices(movies, k=1) # returns k random elements from the list (as a list)\n",
    "print('Tonight we will watch', random_movie)"
   ],
   "id": "90b5523a205d1593",
   "outputs": [
    {
     "name": "stdout",
     "output_type": "stream",
     "text": [
      "Tonight we will watch ['Mean Girls']\n"
     ]
    }
   ],
   "execution_count": 2
  },
  {
   "metadata": {
    "ExecuteTime": {
     "end_time": "2024-09-03T10:03:29.259272Z",
     "start_time": "2024-09-03T10:03:29.256237Z"
    }
   },
   "cell_type": "code",
   "source": [
    "movie_preferences = {\n",
    "    'Taxi Driver': 0.1,\n",
    "    'Cars 3': 0.4,\n",
    "    'How High': 0.2,\n",
    "    'The Seventh Seal': 0,\n",
    "    'Mean Girls': 0.3 \n",
    "}\n",
    "\n",
    "movies = list(movie_preferences.keys())\n",
    "probabilities = list(movie_preferences.values())\n",
    "\n",
    "random.choices(movies, probabilities, k=1) # returns k random elements from the list based on the probabilities given in a separate list\n",
    "print('Eww, I would rather watch', random.choices(movies, probabilities))"
   ],
   "id": "8665fb947feb541c",
   "outputs": [
    {
     "name": "stdout",
     "output_type": "stream",
     "text": [
      "Eww, I would rather watch ['Cars 3']\n"
     ]
    }
   ],
   "execution_count": 3
  },
  {
   "metadata": {},
   "cell_type": "markdown",
   "source": [
    "## Exercise 1: Fair dice (1 point)\n",
    "\n",
    "1. Implement a class called `Die` that represents a fair six-sided die. The class should have a method called `roll_n` that simulates rolling $n$ identical dice and returns a list of the results."
   ],
   "id": "9b9ada932365520c"
  },
  {
   "metadata": {
    "ExecuteTime": {
     "end_time": "2024-09-03T10:03:29.658248Z",
     "start_time": "2024-09-03T10:03:29.649957Z"
    }
   },
   "cell_type": "code",
   "source": [
    "class Die:\n",
    "    def __init__(self):\n",
    "        ...\n",
    "    def roll_n(self, n):\n",
    "        ..."
   ],
   "id": "3d1c4f8c2cfd30a2",
   "outputs": [],
   "execution_count": 4
  },
  {
   "metadata": {},
   "cell_type": "markdown",
   "source": [
    "## Exercise 2: Unfair dice (1 point)\n",
    "\n",
    "1. Implement a class called `UnfairDie` that represents a **weighted** six-sided die. The class will be very similar to the `Die` class from the previous exercise, so you can use it as a starting point.\n",
    "\n",
    "     The class should have a method called `roll_n` that simulates rolling the unfair die $n$ times and returns a list of results. The probabilities of rolling each face should be set by the user when creating a die object by passing a parameter `probs`, a list of six positive floats summing to one.\n",
    "2. What is the probability of rolling a mean of more than 15 and less than 25 when rolling 5 identical unfair dice?  \n",
    "The probabilities of rolling the faces 1-6 are given by a list [0.1, 0.1, 0.1, 0.25, 0.15, 0.3]. Conduct a simulation to estimate the probability."
   ],
   "id": "92d64c9c965c9e15"
  },
  {
   "metadata": {
    "ExecuteTime": {
     "end_time": "2024-09-03T10:03:30.331018Z",
     "start_time": "2024-09-03T10:03:30.328741Z"
    }
   },
   "cell_type": "code",
   "source": [
    "class UnfairDie:\n",
    "    ..."
   ],
   "id": "5cb542716cddc71d",
   "outputs": [],
   "execution_count": 5
  },
  {
   "metadata": {},
   "cell_type": "markdown",
   "source": [
    "## Exercise 3: Entropy (1 point)\n",
    "\n",
    "Entropy is a measure of **uncertainity** or **randomness** in a random variable. \n",
    "You may have already heard about entropy in the context of thermodynamics, and if you did, you may see how those are related!\n",
    "The entropy of a discrete random variable $X$ with probability distribution $p(x)$ is defined as:\n",
    "$$H(X) = -\\sum_{x} p(x) \\log_2 p(x)$$\n",
    "Entropy is a **weighted average of the information content** of each possible value of $X$, where the weight is the **probability** of that value.\n",
    "The formula can also be written in a way which conveys the intuition behind it more clearly:\n",
    "$$H(X) = \\sum_{x} p(x) * -\\log_2 \\frac{1}{p(x)}$$\n",
    "\n",
    "### Let's break it down:\n",
    "\n",
    "The term: $$\\log_2 \\frac{1}{p(x)}$$ is the **information content** or **surprisal** of the value $x$. For **high probability events** (such as the sun rising tomorrow) the surprisal is **low** (we get no new information about the system by observing the exact same sunrise for the 100th time), with $\\log_2 \\frac{1}{p(x)} = 0$ when $p(x) = 1$. For **low probability events**, such as your homework assignment being published in Nature, the surprisal is **high**, and $\\log_2 \\frac{1}{p(x)}$ goes to infinity as $p(x)\\to 0$. The graph below illustrates how the information content of an event $x$ changes for different values of $p(x)$.\n",
    "\n",
    "<center>\n",
    "<img src=\"imgs/surprisal.png\" width=400>\n",
    "</center>\n",
    "<br/><br/>\n",
    "\n",
    "Now, entropy is the **average surprisal** of the random variable weighted by the probability of event $x$, thus in the formula it is multiplied by $p(x)$. \n",
    "\n",
    "If you do not immediately see how this relates to the concept of a weighted average, note that $p(x) \\le 1$ and $\\sum_{x}{}{p(x)} = 1$. \n",
    "\n",
    "Hopefully, you can see that the formula for entropy satisfies some of our expectations when it comes to measuring surprisal of a random event.\n",
    "  \n",
    "Let's take a look at an example. The entropy of a fair coin, where $p(\\text{heads})=0.5$ and $p(\\text{tails})=0.5$, is 1 bit:\n",
    "$$H(\\text{coin}) = p(\\text{heads}) \\log_2\\frac{1}{p(\\text{heads})} + p(\\text{tails}) \\log_2\\frac{1}{p(\\text{tails})}$$\n",
    "$$= 0.5*\\log_2\\frac{1}{0.5} + 0.5*\\log_2\\frac{1}{0.5} = 1$$\n",
    "while a coin that always lands heads has an entropy of 0 bits:\n",
    "$$H(\\text{coin}) = 1*\\log_2\\frac{1}{1} = 0$$\n",
    "<br/>\n",
    "***\n",
    "\n",
    "1. Implement a method called `entropy` that calculates and returns the entropy of a die to the `Die` class from the previous exercise. How does the entropy of a fair die compare to the entropy of an unfair die with the probabilities $[0.1, 0.1, 0.1, 0.25, 0.15, 0.3]$? Be sure to return a valid entropy value even if some of the probabilities are zero."
   ],
   "id": "ded12c174602fd03"
  },
  {
   "metadata": {},
   "cell_type": "code",
   "outputs": [],
   "execution_count": null,
   "source": [
    "from math import log2\n",
    "\n",
    "..."
   ],
   "id": "b3ff982135a3d22a"
  },
  {
   "metadata": {},
   "cell_type": "markdown",
   "source": [
    "## Exercise 3 (Plotting averages of dice rolls) (2 points)\n",
    "\n",
    "1. Create a function called `get_average`. The function should take a Die (or UnfairDie) object and a number of dice to roll $n$ as arguments. The function should return the mean result of rolling $n$ dice.\n",
    "\n",
    "2. Create a function called `get_n_averages`. The function should take a Die (or UnfairDie) object, a number of dice to roll $n$, and the number of times to repeat the experiment $k$. The function should roll $n$ dice $k$ times and return a list of $k$ mean results.\n",
    "\n",
    "3. Plot a histogram of the results of rolling $n = 10$ fair dice $k = 50$, $1000$ and $10 000$ times. The function `plot_means` which plots the histogram from a list of numbers is already implemented by me, and can be used out of the box. **You will learn how to prepare plots like this with seaborn and pyplot during the next labs**. What shape does this distribution converge to as the number of trials increases? Conduct the same experiment for unfair dice with probabilities $[0.1, 0.1, 0.1, 0.25, 0.15, 0.3]$ and try to draw some conclusions."
   ],
   "id": "99640f4b1ebc48b1"
  },
  {
   "metadata": {
    "ExecuteTime": {
     "end_time": "2024-08-21T13:28:15.754499Z",
     "start_time": "2024-08-21T13:28:15.749335Z"
    }
   },
   "cell_type": "code",
   "source": [
    "def get_average(die, n):\n",
    "    ..."
   ],
   "id": "de5286b09f587b86",
   "outputs": [],
   "execution_count": 3
  },
  {
   "metadata": {
    "ExecuteTime": {
     "end_time": "2024-08-21T13:28:16.303523Z",
     "start_time": "2024-08-21T13:28:16.294592Z"
    }
   },
   "cell_type": "code",
   "source": [
    "def get_n_averages(die, n, k):\n",
    "    ..."
   ],
   "id": "17479113493007a4",
   "outputs": [],
   "execution_count": 4
  },
  {
   "metadata": {},
   "cell_type": "code",
   "outputs": [],
   "execution_count": null,
   "source": [
    "from src.helpers import plot_hist\n",
    "import warnings # This library is used to ignore warnings, don't worry about it for now\n",
    "warnings.filterwarnings('ignore')\n",
    "\n",
    "results = get_n_averages(...)\n",
    "plot_hist(results)"
   ],
   "id": "f5fa85db85e03126"
  },
  {
   "metadata": {},
   "cell_type": "markdown",
   "source": [
    "## Excercise 4 (Pachinko) (2 points)\n",
    "\n",
    "Pachinko is a Japanese gambling game played on a vertical board. The board has pegs protruding from the surface and the player has to drop a ball from the top. The ball bounces off the pegs and can land in one of specially designated pockets. The pockets have different values and the prize is determined by the pocket in which the ball lands.\n",
    "\n",
    "<center>\n",
    "    <p float=\"left\">\n",
    "        <img src=\"imgs/pachinko1.jpg\", width=350>\n",
    "        <img src=\"imgs/pachinko.png\", width=500>\n",
    "    </p>\n",
    "</center>\n",
    "\n",
    "The figure above shows an actual pachinko machine (left) and a simplified version of a pachinko board (right). Assume the ball has an equal chance of bouncing either left or right off each peg. \n",
    "\n",
    "One can simulate the results of such a game in many ways. One example is by assigning a value of 0 to each left bounce and 1 to each right bounce. As the ball falls through $n$ rows, its final position (bin index) is determined by the sum of the values in each row.\n",
    "\n",
    "1. Create a class called `Pachinko` that represents a simplified pachinko board of $k$ rows. The class should have a method called `drop_balls` that simulates dropping $n$ balls through the board and returns the list of $n$ integers, corresponding to the final position (bin index) of each ball.\n",
    "2. Create a function called `plot_pachinko`. It should take a Pachinko object and the number of balls $n$ as arguments. The function should simulate dropping $n$ balls through the board and return a histogram of the distribution of balls in all bins (you can use the `plot_hist` function from the previous exercise to return the histogram).\n",
    "3. Plot the histogram of the results of dropping 1000 balls through a pachinko board with $k=5, 10, 20$ rows. What shape does this distribution converge to as the number of rows increases? **Extra**: What exactly does this experiment have in common with means of multiple dice rolls?\n",
    "4. You encounter a 10-row pachinko machine. One game (equivalent of dropping one ball) costs you 10 yen. If the ball lands in either the first or last bin, you win 2500 yen. You can play as many times as you wish. Will this machine make the casino go bankrupt? Conduct a simulation to verify your prediction."
   ],
   "id": "8d83cb6fdfde6932"
  },
  {
   "metadata": {
    "ExecuteTime": {
     "end_time": "2024-08-21T12:52:17.241990Z",
     "start_time": "2024-08-21T12:52:17.235774Z"
    }
   },
   "cell_type": "code",
   "source": [
    "class Pachinko:\n",
    "    def __init__(self):\n",
    "        ...\n",
    "    \n",
    "    def drop_balls(self, n):\n",
    "        ..."
   ],
   "id": "da9bc3d270c6c315",
   "outputs": [],
   "execution_count": 60
  },
  {
   "metadata": {
    "ExecuteTime": {
     "end_time": "2024-08-21T12:52:20.401368Z",
     "start_time": "2024-08-21T12:52:20.392136Z"
    }
   },
   "cell_type": "code",
   "source": [
    "from src.helpers import plot_hist\n",
    "\n",
    "def plot_pachinko(pachinko, n):\n",
    "    ...\n",
    "    return plot_hist(...)"
   ],
   "id": "ebb7b2ba169fdab1",
   "outputs": [],
   "execution_count": 61
  },
  {
   "metadata": {},
   "cell_type": "markdown",
   "source": [
    "## *Python dunder methods\n",
    "\n",
    "We have already encountered some special methods in Python, such as `__init__(self, args)`, which is called only once when an object is created. These methods are called dunder methods (short for *double underscore*). They are used to define how objects of a class behave when they are used in conjunction with built-in Python functions. \n",
    "\n",
    "For example, the `__str__(self)` method is called when an object is passed to the `print` function. If you want to define how your object should be represented as a string, you can implement this method in your class. Here is an example:"
   ],
   "id": "caf6a4872ca870cf"
  },
  {
   "metadata": {
    "ExecuteTime": {
     "end_time": "2024-08-26T09:40:57.448789Z",
     "start_time": "2024-08-26T09:40:57.443795Z"
    }
   },
   "cell_type": "code",
   "source": [
    "# Example of using __str__()\n",
    "\n",
    "class Cow:\n",
    "    def __init__(self, name):\n",
    "        self.name = name # Setting the name of the cow\n",
    "\n",
    "    def __str__(self):\n",
    "        cow_art = (\n",
    "        rf\"\"\"\n",
    "        This is a cow named {self.name}:\n",
    "        ^__^\n",
    "        (oo)\\_______\n",
    "        (__)\\       )\\/\\\n",
    "            ||----w |\n",
    "            ||     ||\n",
    "        \"\"\"\n",
    "        )\n",
    "        return cow_art.strip() # The strip() method is for aesthetic purposes\n",
    "    \n",
    "cow = Cow('Angelica')\n",
    "\n",
    "# The print function calls the __str__() method!\n",
    "print(cow)"
   ],
   "id": "d9dea6634025fcf4",
   "outputs": [
    {
     "name": "stdout",
     "output_type": "stream",
     "text": [
      "This is a cow named Angelica:\n",
      "        ^__^\n",
      "        (oo)\\_______\n",
      "        (__)\\       )\\/\\\n",
      "            ||----w |\n",
      "            ||     ||\n"
     ]
    }
   ],
   "execution_count": 26
  },
  {
   "metadata": {},
   "cell_type": "markdown",
   "source": [
    "Dunder methods are a powerful tool in Python that allows you to use your custom classes in any code that was prepared to work with built-in Python objects. You just have to implement the right dunder methods in your class.\n",
    "\n",
    "Other useful dunder methods:\n",
    "- `__call__(self)`: makes an object callable. It is executed when the object is called as a function.\n",
    "- `__add__(self, other)`: called by the `+` operator. It should return the sum of two objects (*whatever that means for your particular class*).\n",
    "- `__mul__(self, other)`: called by the `*` operator. It should return the product of two objects).\n",
    "- `__len__(self)`: called by the `len` function. It should return the length of the object).\n",
    "- `__eq__(self, other)`: called by the `==` operator. It should return `True` if two objects are equal.\n",
    "- `__getitem__(self, key)`: called to get an item from the object using square brackets. It should return the item at the given key (*useful if your class is a data-related*).\n",
    "\n",
    "There are many other dunder methods that you can implement in your classes. You can find a list of them [here](https://docs.python.org/3/reference/datamodel.html#special-method-names)."
   ],
   "id": "9aad4b16720f8590"
  }
 ],
 "metadata": {
  "kernelspec": {
   "display_name": "Python 3",
   "language": "python",
   "name": "python3"
  },
  "language_info": {
   "codemirror_mode": {
    "name": "ipython",
    "version": 2
   },
   "file_extension": ".py",
   "mimetype": "text/x-python",
   "name": "python",
   "nbconvert_exporter": "python",
   "pygments_lexer": "ipython2",
   "version": "2.7.6"
  }
 },
 "nbformat": 4,
 "nbformat_minor": 5
}
