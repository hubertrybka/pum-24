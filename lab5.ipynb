{
 "cells": [
  {
   "metadata": {},
   "cell_type": "markdown",
   "source": [
    "# Lab 5: Introduction to neural networks with PyTorch.\n",
    "\n",
    "---\n",
    "\n",
    "## Reading material\n",
    "\n",
    "<center>\n",
    "<img src=\"imgs/3blue1brown.jpeg\" width=\"600\" align=\"c\"/>\n",
    "</center>\n",
    "\n",
    "</br>\n",
    "\n",
    "**Grant Sanderson's 3Blue1Brown video series on neural networks:**\n",
    "\n",
    "* [But what is a neural network?](https://www.youtube.com/watch?v=aircAruvnKk)\n",
    "* [Gradient descent, how neural networks learn](https://www.youtube.com/watch?v=IHZwWFHWa-w)\n",
    "* [What is backpropagation really doing?](https://www.youtube.com/watch?v=Ilg3gGewQ5U)\n",
    "* [Backpropagation calculus](https://www.youtube.com/watch?v=tIeHLnjs5U8)\n",
    "\n"
   ],
   "id": "77c77a1c1215690f"
  },
  {
   "metadata": {},
   "cell_type": "code",
   "outputs": [],
   "execution_count": null,
   "source": "",
   "id": "339e82859e3eb11d"
  },
  {
   "metadata": {},
   "cell_type": "markdown",
   "source": "",
   "id": "4409bb6a047a4893"
  },
  {
   "metadata": {},
   "cell_type": "code",
   "outputs": [],
   "execution_count": null,
   "source": "",
   "id": "6ba6f4bd8eb49773"
  }
 ],
 "metadata": {
  "kernelspec": {
   "display_name": "Python 3",
   "language": "python",
   "name": "python3"
  },
  "language_info": {
   "codemirror_mode": {
    "name": "ipython",
    "version": 2
   },
   "file_extension": ".py",
   "mimetype": "text/x-python",
   "name": "python",
   "nbconvert_exporter": "python",
   "pygments_lexer": "ipython2",
   "version": "2.7.6"
  }
 },
 "nbformat": 4,
 "nbformat_minor": 5
}
