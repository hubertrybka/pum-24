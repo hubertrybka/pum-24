{
 "cells": [
  {
   "metadata": {},
   "cell_type": "markdown",
   "source": [
    "## Introduction to Pandas\n",
    "\n",
    "**Pandas is probably the most widely used library for data manipulation and analysis in Python.** You will use it a lot during this course. Let's learn some of its functionalities.\n",
    "\n",
    "pandas.DataFrame is a 2-dimensional data structure with columns of potentially different types. You can think of it like an Excel spreadsheet. It is generally the most commonly used pandas object and works great for storing and analyzing data.\n",
    "\n",
    "<br/><br/>\n",
    "<center>\n",
    "<img src=\"imgs/characters.png\" height=\"250\">\n",
    "</center>\n",
    "<br/><br/>\n",
    "\n",
    "\n",
    "Let's imagine we want to create a DataFrame that contains the information about characters from the **critically-acclaimed 2019 game Disco Elysium**. This would be an example to learn how to create a DataFrame from scratch and perform some basic operations on it."
   ],
   "id": "8500662b57500ed0"
  },
  {
   "metadata": {},
   "cell_type": "code",
   "outputs": [],
   "execution_count": null,
   "source": [
    "# First, initialize an empty DataFrame\n",
    "\n",
    "import pandas as pd\n",
    "\n",
    "df = pd.DataFrame()\n",
    "\n",
    "# Now, let's create the columns as lists\n",
    "\n",
    "first_names = ['Harry', 'Kim', 'Lawrence', 'Joyce', 'Cuno', 'Goracy']\n",
    "last_names =  ['Du Bois', 'Kitsuragi', 'Garte', 'Messier', 'de Ruyter', 'Kubek']\n",
    "ages = [44, 43, 28, 48, 12, 39]\n",
    "occupations = ['Cop', 'Cop', 'Bartender', 'Landlady', 'Unemployed', 'Cook']\n",
    "origins = ['Revachol', 'Revachol', 'Revachol', 'Revachol', 'Oranje', 'Graad']\n",
    "\n",
    "# Let's add the columns to the DataFrame\n",
    "\n",
    "df['first_name'] = first_names\n",
    "df['last_name'] = last_names\n",
    "df['age'] = ages\n",
    "df['occupation'] = occupations\n",
    "df['origin'] = origins\n",
    "\n",
    "# Let's take a peek at the first 5 rows of the DataFrame. Another method, tail(), would show the last 5 rows.\n",
    "df.head()"
   ],
   "id": "ba0c078d4cb13486"
  },
  {
   "metadata": {},
   "cell_type": "code",
   "outputs": [],
   "execution_count": null,
   "source": [
    "# We can also create a DataFrame from a dictionary\n",
    "\n",
    "data = {'first_name': first_names, # column name: column values\n",
    "        'last_name': last_names, \n",
    "        'age': ages, \n",
    "        'occupation': occupations,\n",
    "        'origin': origins}\n",
    "\n",
    "df = pd.DataFrame(data)\n",
    "df.head() \n",
    "\n",
    "# It's the same as before!"
   ],
   "id": "6f10f7c5da6fdf"
  },
  {
   "metadata": {},
   "cell_type": "markdown",
   "source": [
    "**We can access the columns of the DataFrame using the column name.** This will return a pandas Series, \n",
    "which is a one-dimensional labeled array (similar to a Python dictionary). It is the building block \n",
    "of pandas DataFrames and contains index values $[0, 1, 2, ..., n]$ as the \"dictionary keys\" and our \n",
    "data as the \"dictionary values\". \n",
    "\n",
    "You won't need to work with pandas Series objects as often as with DataFrames, but it's good to know \n",
    "they exist."
   ],
   "id": "45ddb3f644818d17"
  },
  {
   "metadata": {},
   "cell_type": "code",
   "outputs": [],
   "execution_count": null,
   "source": [
    "# Let's see the first names of the characters only.\n",
    "\n",
    "first_names = df['first_name']\n",
    "print(f\"What we got is a pandas.Series object:\")\n",
    "print(first_names, '\\n')\n",
    "\n",
    "# pandas.Series can be converted to an ordinary Python list using the tolist() method\n",
    "names_list = first_names.tolist()\n",
    "print(f\"Now it's a Python list:\")\n",
    "print(names_list)"
   ],
   "id": "4188417b5fcab85d"
  },
  {
   "metadata": {},
   "cell_type": "markdown",
   "source": [
    "### Basic DataFrame operations\n",
    "\n",
    "Let's review some basic operations that can be performed on a pandas DataFrame.  \n",
    "\n",
    "You may wonder how to append a new row to an existing DataFrame. Unfortunately, it is not as straightforward as appending a new element to a Python list, as **DataFrames are not designed to grow in size dynamically**, but you can still do it.\n",
    "\n",
    "<br>\n",
    "<center>\n",
    "<img src=\"imgs/add-character.png\" height=\"215\">\n",
    "</center>\n",
    "<br>\n",
    "\n",
    "One approach is to **create a new DataFrame containing only the new row** and then concatenate (meaning - join by rows) it with the original DataFrame."
   ],
   "id": "6d3b61efd662d6b8"
  },
  {
   "metadata": {},
   "cell_type": "code",
   "outputs": [],
   "execution_count": null,
   "source": [
    "# Let's create a dictionary with the information about a new character. The column names should match the\n",
    "# column names of the original DataFrame.\n",
    "\n",
    "new_character = {'first_name': 'Klaasje', 'last_name': 'Amandou', 'age': 28, 'occupation': 'Corporate spy', 'origin': 'Oranje'}\n",
    "\n",
    "# Create a new DataFrame with the new character\n",
    "df_new = pd.DataFrame(new_character, index=[0]) # The index parameter is irrelevant in this case\n",
    "\n",
    "# Concatenate the original DataFrame with the new DataFrame using pandas.concat(\n",
    "\n",
    "df = pd.concat([df, df_new], ignore_index=True) # The ignore_index parameter resets the index of the resulting DataFrame, and it is set to True to avoid having duplicate indices.\n",
    "df.tail()"
   ],
   "id": "32c01c6e3280c05b"
  },
  {
   "metadata": {},
   "cell_type": "code",
   "outputs": [],
   "execution_count": null,
   "source": [
    "# Suppose we only want to see the last names and occupations of the characters. \n",
    "# We can select multiple columns by passing a list of column names to the DataFrame, in square brackets.\n",
    "\n",
    "columns = ['last_name', 'occupation']\n",
    "name_and_occupation = df[columns] # This will return a DataFrame with only the selected columns\n",
    "name_and_occupation.head(7) # Now we have only the last names and occupations"
   ],
   "id": "6318f95023b20d"
  },
  {
   "metadata": {},
   "cell_type": "code",
   "outputs": [],
   "execution_count": null,
   "source": [
    "# We can also select rows based on a condition. \n",
    "# For example, we can select only the characters who are cops.\n",
    "\n",
    "cops = (df['occupation'] == 'Cop') # This will return a boolean mask, or a list of True/False values indicating whether the condition is met for each row\n",
    "cops_only = df[cops]\n",
    "cops_only.head()"
   ],
   "id": "5eaa0010d60007ed"
  },
  {
   "metadata": {},
   "cell_type": "code",
   "outputs": [],
   "execution_count": null,
   "source": [
    "# If we wanted to see some statistics about the dataframe values, we would use the describe() method\n",
    "\n",
    "df['age'].describe()    # tells us abut the mean, standard deviation, min, max, and quartiles of the 'age' column"
   ],
   "id": "fb624ed97cb3eb34"
  },
  {
   "metadata": {},
   "cell_type": "code",
   "outputs": [],
   "execution_count": null,
   "source": [
    "# We can also sort the DataFrame by values in a column. Let's sort the characters by age.\n",
    "\n",
    "df_sorted = df.sort_values(by='age')\n",
    "df_sorted.head(7)"
   ],
   "id": "88f7c4b3decb03d7"
  },
  {
   "metadata": {},
   "cell_type": "code",
   "outputs": [],
   "execution_count": null,
   "source": [
    "# As time passes, people usually get older. This does not really happen in the game, as the story \n",
    "# spans only a few days. Nevertheless, let's see what the characters' ages will be in 10 years and \n",
    "# add this information to the DataFrame.\n",
    "\n",
    "df['age_in_10_yrs'] = df['age'] + 10    # We can perform operations on entire columns at once\n",
    "df.head()"
   ],
   "id": "62ae5fd563eae476"
  },
  {
   "metadata": {},
   "cell_type": "code",
   "outputs": [],
   "execution_count": null,
   "source": [
    "# If we wanted to perform a more complex operation on the 'age' column, we could use the apply() method.\n",
    "\n",
    "# You can write a custom function that takes a value from a column, does something with it, and returns \n",
    "# the result. Then, you can apply this function to the entire column at once.\n",
    "\n",
    "def describe_age(x):\n",
    "    if x < 15:\n",
    "        return 'Kid'\n",
    "    elif x < 30:\n",
    "        return 'Young' # If the age is less than 30, return 'Young'\n",
    "    elif x < 60:\n",
    "        return 'Middle-aged' # If the age is less than 60, return 'Middle-aged'\n",
    "    else:\n",
    "        return 'Elderly'\n",
    "\n",
    "df['age_categorical'] = df['age'].apply(describe_age)\n",
    "df.head(7)"
   ],
   "id": "4672f69fe953fa7a"
  },
  {
   "metadata": {},
   "cell_type": "markdown",
   "source": [
    "### Iterating over rows in a DataFrame (don't do it!)\n",
    "\n",
    "When working with pandas DataFrames it is advised **not to use 'for' loops to iterate over rows**. In contrast to Python lists, pandas DataFrames are optimized for vectorized operations. This means that you can apply operations to entire columns at once, which is much faster than iterating over rows. **If you find yourself iterating over rows in a DataFrame, you are probably doing something wrong**. There is almost always a better, more efficient way to do it using pandas methods.\n",
    "\n",
    "Nevertheless, be aware of the iterrows() method. Here is an example of how it could be used:"
   ],
   "id": "90a44e06fc63d785"
  },
  {
   "metadata": {},
   "cell_type": "code",
   "outputs": [],
   "execution_count": null,
   "source": [
    "print('My favorite characters of Disco Elysium:')\n",
    "for index, row in df.iterrows():\n",
    "    first_name = row['first_name']\n",
    "    last_name = row['last_name']\n",
    "    job = row['occupation']\n",
    "    print(f'{index}. {first_name} {last_name}, who is a(n) {job}')"
   ],
   "id": "681140bfd6b86897"
  },
  {
   "metadata": {},
   "cell_type": "markdown",
   "source": [
    "### Get familiar with Pandas documentation!\n",
    "\n",
    "In this notebook we explored only a fraction of pandas.DataFrame methods. You should get familiar with [Pandas documentation](https://pandas.pydata.org/docs/reference/frame.html) and play around with the methods to get a better understanding of what you can do with pandas. Go ahead and try some of the methods on the DataFrame we created in this notebook."
   ],
   "id": "f0e5014b7f08dc26"
  }
 ],
 "metadata": {
  "kernelspec": {
   "display_name": "Python 3",
   "language": "python",
   "name": "python3"
  },
  "language_info": {
   "codemirror_mode": {
    "name": "ipython",
    "version": 2
   },
   "file_extension": ".py",
   "mimetype": "text/x-python",
   "name": "python",
   "nbconvert_exporter": "python",
   "pygments_lexer": "ipython2",
   "version": "2.7.6"
  }
 },
 "nbformat": 4,
 "nbformat_minor": 5
}
