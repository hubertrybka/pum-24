{
 "cells": [
  {
   "cell_type": "markdown",
   "id": "3cccb0301d36a2d6",
   "metadata": {},
   "source": [
    "# Lab 2-2: Linear Regression in NumPy.\n",
    "\n",
    "In this chapter you will learn about NumPy, a powerful library for numerical computing in Python. \n",
    "\n",
    "We will see how to create and manipulate NumPy arrays, perform basic linear algebra operations, and finally implement linear regression as a Python class."
   ]
  },
  {
   "cell_type": "code",
   "execution_count": 1,
   "id": "6f2484e5ea9d70dc",
   "metadata": {
    "ExecuteTime": {
     "end_time": "2024-08-15T10:15:54.232361Z",
     "start_time": "2024-08-15T10:15:54.228474Z"
    }
   },
   "outputs": [],
   "source": [
    "import numpy as np # np is a commonly-used alias for the numpy library"
   ]
  },
  {
   "cell_type": "markdown",
   "id": "c3937f85c554ac21",
   "metadata": {},
   "source": [
    "<center>\n",
    "<img src=\"imgs/numpy.png\" height=\"346\">\n",
    "</center>\n",
    "\n",
    "## Introduction to NumPy\n",
    "\n",
    "NumPy is a Python library that provides support for large, **multi-dimensional arrays and matrices**, along with a collection of mathematical functions to operate on these arrays. NumPy is a workhorse of linear algebra and fundamental package for scientific computing with Python (including machine learning)."
   ]
  },
  {
   "cell_type": "markdown",
   "id": "2a9dc80e4c09194b",
   "metadata": {},
   "source": [
    "### Why use NumPy when we have python lists?\n",
    "NumPy arrays are faster and more memory efficient than Python lists. NumPy arrays are also homogeneous: all elements of a NumPy array have the same data type. This allows NumPy to store data in a more compact form and allows NumPy functions to execute faster as they have fixed-size elements to work with. In machine learning and data science, where you often work with large datasets, you will quickly find yourself unable to compute anything in reasonable timeframes using native Python data structures.\n",
    "\n",
    "#### Let's compare the performance of NumPy arrays and Python lists on a simple task:"
   ]
  },
  {
   "cell_type": "code",
   "execution_count": null,
   "id": "6160bf73c421ff3c",
   "metadata": {},
   "outputs": [],
   "source": [
    "from math import sqrt, cos\n",
    "import time\n",
    "\n",
    "# With Python lists\n",
    "start_time = time.time() # Record the start time\n",
    "\n",
    "# Create a list of integers up to 1 000 000\n",
    "data = range(1000000)\n",
    "\n",
    "# Perform some operation on the dataset (first take the square root, then find the cosine)\n",
    "list_results = []\n",
    "for x in data:\n",
    "    list_results.append(cos(sqrt(x)))\n",
    "\n",
    "time_elapsed_python = time.time() - start_time # Calculate the time elapsed\n",
    "\n",
    "print(\"First 5 elements of the results:\")\n",
    "print(list_results[:5])\n",
    "print(\"Time elapsed using Python lists:\", round(time_elapsed_python*1000), \"miliseconds\")"
   ]
  },
  {
   "cell_type": "code",
   "execution_count": null,
   "id": "3d9441c84a476df5",
   "metadata": {},
   "outputs": [],
   "source": [
    "# With NumPy arrays\n",
    "\n",
    "start_time = time.time() # Record the start time\n",
    "\n",
    "# Create an array of integers up to 1 000 000\n",
    "data = np.arange(1000000)\n",
    "\n",
    "# Perform some operation on the dataset (first take the square root, then find the cosine)\n",
    "numpy_results = np.cos(np.sqrt(data))\n",
    "\n",
    "time_elapsed_numpy = time.time() - start_time # Calculate the time elapsed\n",
    "\n",
    "print(\"First 5 elements of the results:\")\n",
    "print(numpy_results[:5])\n",
    "print(\"Time elapsed using NumPy arrays:\", round(time_elapsed_numpy*1000), \"miliseconds\")\n",
    "print(\"NumPy was\", round(time_elapsed_python/time_elapsed_numpy, 2), \"times faster than Python lists in this task\")"
   ]
  },
  {
   "cell_type": "markdown",
   "id": "1e3287430f2f8373",
   "metadata": {},
   "source": [
    "### Basics of NumPy arrays\n",
    "\n",
    "A one-dimensional array will often be called a **vector**.\n",
    "\n",
    "NumPy arrays are created using the `np.array` function. This function takes an array (such as a Python list) and returns a superfast NumPy array. \n",
    "\n",
    "The elements of a NumPy array are accessed using square brackets and indexed from zero, just like Python lists."
   ]
  },
  {
   "cell_type": "code",
   "execution_count": null,
   "id": "4dd3849e19578594",
   "metadata": {},
   "outputs": [],
   "source": [
    "some_numbers = [0.1, 0.2, 0.4, 0.2, 0.8, 1.2, 0.7, 0.1, 0.9, 0.3]\n",
    "vector = np.array(some_numbers)\n",
    "\n",
    "print(\"First element of the array:\", vector[0])\n",
    "print(\"Third element of the array:\", vector[2])\n",
    "print(\"Last element of the array:\", vector[-1])\n",
    "print(\"Second to fourth elements of the array:\", vector[1:4])"
   ]
  },
  {
   "cell_type": "code",
   "execution_count": null,
   "id": "3c2ec7c6e853d0a2",
   "metadata": {},
   "outputs": [],
   "source": [
    "# You can create an array of zeros, ones, random numbers, or a range of numbers using NumPy functions. Those are faster that passing a list to np.array.\n",
    "\n",
    "zero_array = np.zeros(5)\n",
    "print(\"Zero array:\", zero_array)\n",
    "\n",
    "ones_array = np.ones(5)\n",
    "print(\"Ones array:\", ones_array)\n",
    "\n",
    "random_array = np.random.rand(5)\n",
    "print(\"Random array:\", random_array)\n",
    "\n",
    "range_array = np.arange(0, 18, 3) # Start at 0, stop before 18, step by 3\n",
    "print(\"Range array:\", range_array)"
   ]
  },
  {
   "cell_type": "code",
   "execution_count": null,
   "id": "92dcf8dcf39af462",
   "metadata": {},
   "outputs": [],
   "source": [
    "# Calculations with NumPy arrays are vectorized, meaning that you can perform operations on entire arrays at once.\n",
    "# Let's create two arrays and add them together.\n",
    "\n",
    "first_array = np.array([1, 1, 2, 3, 5, 8, 13, 21, 34, 55])\n",
    "second_array = np.array([2, 3, 5, 7, 11, 13, 17, 19, 23, 29])\n",
    "\n",
    "sum_array = first_array + second_array\n",
    "print(\"Sum of the arrays:\", sum_array)\n",
    "\n",
    "# You can also multiply, subtract, divide, and apply other mathematical operations to arrays.\n",
    "\n",
    "product_array = first_array * second_array\n",
    "print(\"Product of the arrays:\", product_array)\n",
    "\n",
    "# Note that the above operations do not work on native Python lists. What would happen if you tried to add two Python lists together? In what way is this different from adding two NumPy arrays?"
   ]
  },
  {
   "cell_type": "code",
   "execution_count": null,
   "id": "d42d24cc8d0dc865",
   "metadata": {},
   "outputs": [],
   "source": [
    "# You can also apply mathematical functions to entire arrays at once.\n",
    "\n",
    "squared_array = first_array ** 2\n",
    "print(\"Squared array:\", squared_array)\n",
    "\n",
    "# You can also apply functions that are not part of the standard Python math library, such as the sigmoid function, which is often used in machine learning as an activation function. It flattens the input values to the range (0, 1), which is useful for binary classification tasks. We will implement the sigmoid function and apply it to an array.\n",
    "\n",
    "def sigmoid(x):\n",
    "    return 1 / (1 + np.exp(-x))\n",
    "\n",
    "sigmoid_array = sigmoid(first_array)\n",
    "print(\"Sigmoid array:\", sigmoid_array)"
   ]
  },
  {
   "cell_type": "markdown",
   "id": "9c9c4f7e76023658",
   "metadata": {},
   "source": [
    "### Multi-dimensional arrays\n",
    "\n",
    "A two-dimensional array will often be called a **matrix**. You can create a matrix by passing a list of lists to `np.array`. The outer list represents the **rows of the matrix**, and the inner lists represent the **elements in each row**."
   ]
  },
  {
   "cell_type": "code",
   "execution_count": null,
   "id": "ed3951b0760441f3",
   "metadata": {},
   "outputs": [],
   "source": [
    "matrix = np.array([[1, 2, 3], [4, 5, 6], [7, 8, 9]])\n",
    "print(matrix)\n",
    "\n",
    "# You can access elements in a matrix by providing the row and column indices in square brackets.\n",
    "\n",
    "print(\"First element of the first row:\", matrix[0, 0]) \n",
    "print(\"Second element of the third row:\", matrix[2, 1])\n",
    "\n",
    "# You can also access entire rows or columns using the `:` symbol.\n",
    "\n",
    "print(\"First row:\", matrix[0, :])\n",
    "print(\"Second column:\", matrix[:, 1])"
   ]
  },
  {
   "cell_type": "markdown",
   "id": "50b1502ed2dbf29",
   "metadata": {},
   "source": [
    "### Shape of an array\n",
    "\n",
    "Trying to visualise higher-dimensional arrays can be a bit tricky. A 3-dimensional array can be thought of as a cube of numbers, a 4-dimensional array as a cube of cubes of numbers, and so on. A generalisation of a matrix to more than two dimensions is called a **tensor**, and you may encounter them in the context of building deep learning models.\n",
    "\n",
    "Instead of trying to wrap one's head around multidimensional hypercubes, it's often easier to think of tensors in terms of their **shape**. The shape of an array tells you how many elements there are in each dimension. You can access the shape of an array using the `shape` attribute.\n",
    "\n",
    "So, for example, a vector of 10 numbers has shape `(10)` a 3x4 matrix has shape `(3, 4)`, a 2x2x2 cube of numbers has shape `(2, 2, 2)`. Those are all examples of tensors of different ranks.\n"
   ]
  },
  {
   "cell_type": "code",
   "execution_count": null,
   "id": "e4f4cdddd9f234d2",
   "metadata": {},
   "outputs": [],
   "source": [
    "print(\"Shape of the matrix:\", matrix.shape)"
   ]
  },
  {
   "cell_type": "markdown",
   "id": "20b5b11220ddd127",
   "metadata": {},
   "source": [
    "### Concatenation (joining) of arrays\n",
    "\n",
    "Let's imagine we have matrix A of shape (3, 3), and we want to add a new row to it. We can do this by creating a new matrix B and using the `np.concatenate` function to join the two matrices. The `axis` parameter specifies the axis along which the arrays will be joined. If `axis=0`, the arrays will be joined along rows, and if `axis=1`, the arrays will be joined along columns. \n",
    "\n",
    "Note that, when adding new rows to a matrix, the number of columns must be the same in order to retain a rectangular shape of a matrix. Similarly, when adding new columns, the number of rows must match. Remember that the dimensions of the arrays you are joining must **match at all but the joining axis**. So we can join an array of shape (3, 3, 2) with an array of shape (1, 3, 2) along axis 0, but not along axis 1."
   ]
  },
  {
   "cell_type": "code",
   "execution_count": null,
   "id": "86bfb7b2e39e3d83",
   "metadata": {},
   "outputs": [],
   "source": [
    "matrix = np.array([[1, 2, 3], [4, 5, 6], [7, 8, 9]])\n",
    "print(\"Shape of the matrix A:\", matrix.shape, '\\n')\n",
    "\n",
    "new_row = np.array([[10, 11, 12]])\n",
    "print(\"Shape of the new row:\", new_row.shape)\n",
    "print(\"mathes along axis 1 (columns), so we can join them along axis 0 (by rows)\\n\")\n",
    "\n",
    "new_matrix = np.concatenate([matrix, new_row], axis=0)\n",
    "print(\"New matrix:\")\n",
    "print(new_matrix)\n",
    "print(\"Shape of the new matrix:\", new_matrix.shape)"
   ]
  },
  {
   "cell_type": "markdown",
   "id": "e68e490327787db9",
   "metadata": {},
   "source": [
    "## Exercise 1: Linear algebra in NumPy (1 points)\n",
    "\n",
    "Here are a bunch of linear algebra tasks you are supposed to execute using NumPy. Work with [NumPy documentation](https://numpy.org/doc/stable/reference/routines.linalg.html) (and your search engine of choice) to find the functionalities you need.\n",
    "\n",
    "1. Create a 3x3 matrix $A$.\n",
    "\n",
    "    $A = \\begin{bmatrix} 1 & 2 & -1 \\\\ 2 & 1 & 2 \\\\ -1 & 2 & 1 \\end{bmatrix}$\n",
    "    \n",
    "    Remeber: The matrix is created by passing a list of lists to `np.array`. The outer list represents the **rows** of the matrix, and the inner lists represent the **elements in each row**. The matrix is of shape (rows, columns).\n",
    "\n",
    "2. Calculate $A^T$ (the transpose of matrix $A$). Print the transpose.\n",
    "3. Calculate $A^{-1}$ (the inverse of matrix $A$). Print the inverse.\n",
    "4. Multiply matrix $A$ by its inverse. What do you get? Print the result."
   ]
  },
  {
   "cell_type": "code",
   "execution_count": null,
   "id": "3d8761844d2d8ab5",
   "metadata": {},
   "outputs": [],
   "source": [
    "A = ...\n",
    "# your code goes here"
   ]
  },
  {
   "cell_type": "markdown",
   "id": "f53431f45c9f7c60",
   "metadata": {},
   "source": [
    "## Exercise 2: Rotating a vector (1 point)\n",
    "\n",
    "One of the first things you learn in a linear algebra class is how matrices can be used to rotate vectors in 2D space. It is also a common operation in computer graphics. To rotate a vector $v$ counterclokwise, you multiply it by a rotation matrix.\n",
    "\n",
    "The rotation matrix for a 2D vector is given by:\n",
    "\n",
    "$R = \\begin{bmatrix} \\cos(\\theta) & -\\sin(\\theta) \\\\ \\sin(\\theta) & \\cos(\\theta) \\end{bmatrix}$\n",
    "\n",
    "where $\\theta$ is the angle of rotation in radians. You can convert an angle from degrees to radians using the formula $\\theta_{\\text{rad}} = \\theta_{\\text{deg}} \\times \\frac{\\pi}{180}$.\n",
    "\n",
    "1. Write a function `rotate_vector(vector, angle)` that rotates a 2D vector (np.array) by a given angle in degrees. The function should return the rotated vector (as np.array).    "
   ]
  },
  {
   "cell_type": "code",
   "execution_count": 7,
   "id": "725abc8261a61035",
   "metadata": {
    "ExecuteTime": {
     "end_time": "2024-08-10T18:44:56.074512Z",
     "start_time": "2024-08-10T18:44:56.045764Z"
    }
   },
   "outputs": [
    {
     "ename": "NameError",
     "evalue": "name 'rotated_vector' is not defined",
     "output_type": "error",
     "traceback": [
      "\u001B[0;31m---------------------------------------------------------------------------\u001B[0m",
      "\u001B[0;31mNameError\u001B[0m                                 Traceback (most recent call last)",
      "Cell \u001B[0;32mIn[7], line 10\u001B[0m\n\u001B[1;32m      8\u001B[0m \u001B[38;5;66;03m# Test the function\u001B[39;00m\n\u001B[1;32m      9\u001B[0m vector \u001B[38;5;241m=\u001B[39m np\u001B[38;5;241m.\u001B[39marray([\u001B[38;5;241m1\u001B[39m, \u001B[38;5;241m0\u001B[39m])\n\u001B[0;32m---> 10\u001B[0m rotated_vector \u001B[38;5;241m=\u001B[39m \u001B[43mrotate_vector\u001B[49m\u001B[43m(\u001B[49m\u001B[43mvector\u001B[49m\u001B[43m,\u001B[49m\u001B[43m \u001B[49m\u001B[38;5;241;43m120\u001B[39;49m\u001B[43m)\u001B[49m\n\u001B[1;32m     12\u001B[0m \u001B[38;5;66;03m# Draw the original and rotated vectors (the plot_vectors function was already written by me, and it works out of the box)\u001B[39;00m\n\u001B[1;32m     13\u001B[0m plot_vectors(vector, rotated_vector)\n",
      "Cell \u001B[0;32mIn[7], line 6\u001B[0m, in \u001B[0;36mrotate_vector\u001B[0;34m(vector, angle)\u001B[0m\n\u001B[1;32m      4\u001B[0m \u001B[38;5;28;01mdef\u001B[39;00m \u001B[38;5;21mrotate_vector\u001B[39m(vector, angle):\n\u001B[1;32m      5\u001B[0m     \u001B[38;5;66;03m# your code goes here\u001B[39;00m\n\u001B[0;32m----> 6\u001B[0m     \u001B[38;5;28;01mreturn\u001B[39;00m \u001B[43mrotated_vector\u001B[49m\n",
      "\u001B[0;31mNameError\u001B[0m: name 'rotated_vector' is not defined"
     ]
    }
   ],
   "source": [
    "import numpy as np\n",
    "from src.helpers import plot_vectors\n",
    "\n",
    "def rotate_vector(vector, angle):\n",
    "    \n",
    "    ...\n",
    "    \n",
    "    return rotated_vector\n",
    "\n",
    "# Test the function\n",
    "vector = np.array([1, 0])\n",
    "rotated_vector = rotate_vector(vector, 120)\n",
    "\n",
    "# Draw the original and rotated vectors (the plot_vectors function was already written by me, and it works out of the box)\n",
    "plot_vectors(vector, rotated_vector)"
   ]
  },
  {
   "cell_type": "markdown",
   "id": "1c8a1af739d97cc4",
   "metadata": {},
   "source": [
    "## Linear regression info dump\n",
    "\n",
    "Linear regression is a simple machine learning model that tries to find a linear relationship between a dependent variable and one or more independent variables. The model is represented by the equation:\n",
    "\n",
    "$$y = w_0 + w_1x_1 + w_2x_2 + ... + w_nx_n$$\n",
    "\n",
    "where:\n",
    "- $y$ is the dependent variable\n",
    "- $w_0, w_1, w_2, ..., w_n$ are the model parameters (weights)\n",
    "- $x_1, x_2, ..., x_n$ are the independent variables\n",
    "- $n$ is the number of independent variables\n",
    "- $w_0$ is the bias term\n",
    "\n",
    "You may be familiar with the equation in the form $y = ax + b$, where $a$ is the slope and $b$ is the y-intercept. This is a special case of linear regression with one independent variable, its weight $a$ and bias $b$. In general, linear regression can handle multiple independent variables, each with its own weight.\n",
    "\n",
    "The goal of linear regression is to find the weights that minimize the difference between the predicted values and the actual values of the dependent variable $y$. This difference is called the **loss** or **cost** of the model. The most common loss function used in linear regression is the **mean squared error** (MSE), which is the average of the squared differences between the predicted and actual values.\n",
    "\n",
    "The normal equation is a mathematical formula that gives the weights that minimize the loss function. It is given by:\n",
    "\n",
    "$$W = (X^TX)^{-1}X^Ty$$\n",
    "\n",
    "where:\n",
    "- $W$ is the vector of weights\n",
    "- $X$ is the matrix of independent variables\n",
    "- $y$ is the vector of dependent variables\n",
    "\n",
    "Remember that matrix multiplication is not commutative (the order of the matrices matters)."
   ]
  },
  {
   "cell_type": "markdown",
   "id": "efe72552255ab606",
   "metadata": {},
   "source": [
    "## Exercise 3: Implement linear regression in NumPy (2 points)\n",
    "\n",
    "In this exercise, you will implement a simple linear regression model as a Python class. The class should have the following methods:\n",
    "\n",
    "- `fit(X, y)`: This method should update the weights and bias based on the data (using the normal equation).\n",
    "- `predict(X)`: This method should return the predicted values based on the stored weights and data."
   ]
  },
  {
   "cell_type": "code",
   "execution_count": 3,
   "id": "6b1bcec292f7ede0",
   "metadata": {
    "ExecuteTime": {
     "end_time": "2024-08-10T18:43:44.858492Z",
     "start_time": "2024-08-10T18:43:44.849696Z"
    }
   },
   "outputs": [],
   "source": [
    "class LinearRegression:\n",
    "    \n",
    "    def __init__(self):\n",
    "        self.weights = None\n",
    "        self.bias = None\n",
    "    \n",
    "    def fit(self, X, y):\n",
    "        ... # This method should update the weights and bias based on the data (using the normal equation)\n",
    "    \n",
    "    def predict(self, X):\n",
    "        # This method should return the predicted values based on the stored weights and the data\n",
    "        y = ...\n",
    "        return y"
   ]
  },
  {
   "metadata": {},
   "cell_type": "markdown",
   "source": [
    "### Save your linear regression class to use it later!\n",
    "\n",
    "Now, you wrote a piece of code that may be useful to us during the next laboratory session for building a simple regression model. You may save it to a .py file, and in the future, import it to another notebook with just one line of code.\n",
    "\n",
    "In pum-24 (the root directory of our course repo) create an empty file called regression.py. This is the standard format for files containing Python code. Copy the `LnearRegression` class to the file and save it. Do not forget to import all the essential libraries in regression.py (such as: `import numpy as np`).\n",
    "\n",
    "If everything goes right, you will be able to import your LinearRegression class into another notebook like this: \n",
    "\n",
    "    from regression.py import LinearRegression"
   ],
   "id": "640a8078915aeb75"
  }
 ],
 "metadata": {
  "kernelspec": {
   "display_name": "Python 3 (ipykernel)",
   "language": "python",
   "name": "python3"
  },
  "language_info": {
   "codemirror_mode": {
    "name": "ipython",
    "version": 3
   },
   "file_extension": ".py",
   "mimetype": "text/x-python",
   "name": "python",
   "nbconvert_exporter": "python",
   "pygments_lexer": "ipython3",
   "version": "3.11.5"
  }
 },
 "nbformat": 4,
 "nbformat_minor": 5
}
