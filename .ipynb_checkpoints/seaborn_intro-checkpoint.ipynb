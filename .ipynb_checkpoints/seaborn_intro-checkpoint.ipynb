{
 "cells": [
  {
   "metadata": {},
   "cell_type": "markdown",
   "source": [
    "## Introduction to Seaborn\n",
    "\n",
    "Seaborn is a Python data visualization library based on matplotlib. It provides a high-level interface for drawing attractive and informative statistical graphics. Seaborn is built on top of matplotlib (a widely used plotting library) and closely integrated with pandas data structures.\n",
    "<br/>\n",
    "<center>\n",
    "<img src=\"imgs/iris.png\" width=\"600\">\n",
    "</center>\n",
    "<br/>\n",
    "\n",
    "In this exercise we will use seaborn to visualize data from the famous **Iris dataset**. This simple dataset contains the measurements of 150 iris flowers of three different species: Iris setosa, Iris versicolor, and Iris virginica. Each flower has four features: sepal length, sepal width, petal length, and petal width.\n",
    "\n",
    "The figure above shows the three different species of iris flowers and explains what the sepal and petal are."
   ],
   "id": "4e02e919a6efba98"
  },
  {
   "metadata": {},
   "cell_type": "code",
   "outputs": [],
   "execution_count": null,
   "source": [
    "import pandas as pd\n",
    "import seaborn as sns\n",
    "import matplotlib.pyplot as plt  # Not necessary, but can be useful for customizing seaborn plots\n",
    "\n",
    "iris = pd.read_csv('data/iris.csv')\n",
    "iris.head()"
   ],
   "id": "68d15b476a5e05d6"
  },
  {
   "metadata": {},
   "cell_type": "code",
   "outputs": [],
   "execution_count": null,
   "source": [
    "# Let's see how many iris flowers of each species are in the dataset (should be 50 of each).\n",
    "\n",
    "varieties = iris['Species'].value_counts() \n",
    "# This will return a pandas Series with the counts of each unique value in the 'Species' column\n",
    "print(varieties)"
   ],
   "id": "e317312c354902fe"
  },
  {
   "metadata": {},
   "cell_type": "code",
   "outputs": [],
   "execution_count": null,
   "source": [
    "# As our first plot, let's visualize the relationship between sepal length and petal length for each iris.\n",
    "\n",
    "# We can use a scatter plot for this and color the points based on the 'Species' column - it can be done \n",
    "# by passing hue='Species' parameter to the scatterplot function.\n",
    "\n",
    "sns.set_style('white') # Try 'darkgrid', 'whitegrid', 'dark', 'white', 'ticks'\n",
    "sns.set_context('talk') # Try 'paper', 'poster', 'notebook' and see how it changes the looks\n",
    "\n",
    "sns.scatterplot(data=iris, x='SepalLengthCm', y='PetalLengthCm')"
   ],
   "id": "bde5535bc686c408"
  },
  {
   "metadata": {},
   "cell_type": "code",
   "outputs": [],
   "execution_count": null,
   "source": [
    "# We can color the points based on the 'Species' column by passing hue='Species' parameter to the scatterplot function.\n",
    "\n",
    "sns.scatterplot(data=iris, x='SepalLengthCm', y='PetalLengthCm', hue='Species')"
   ],
   "id": "e1d124b476936474"
  },
  {
   "metadata": {},
   "cell_type": "code",
   "outputs": [],
   "execution_count": null,
   "source": [
    "# We can make the plot look even better by adding custom labels and choosing a custom color palette.\n",
    "\n",
    "# Let's add labels to the x and y axes\n",
    "plt.xlabel('Sepal Length (cm)')\n",
    "plt.ylabel('Petal Length (cm)')\n",
    "\n",
    "# Now let's change the axis limits\n",
    "plt.xlim(3.8, 8.2)\n",
    "plt.ylim(0.5, 7.5)\n",
    "\n",
    "# The palette parameter allows you to choose a color palette for the plot.\n",
    "sns.scatterplot(data=iris, x='SepalLengthCm', y='PetalLengthCm', hue='Species', palette='colorblind')"
   ],
   "id": "7911d48005df1937"
  },
  {
   "metadata": {},
   "cell_type": "code",
   "outputs": [],
   "execution_count": null,
   "source": [
    "# A boxplot is a standardized way of displaying the distribution of data based on a five-number summary: \n",
    "# minimum, first quartile, median, third quartile, and maximum. Let's plot the petal width values \n",
    "# using a boxplot.\n",
    "\n",
    "sns.set_style('white')\n",
    "sns.set_context('talk')\n",
    "\n",
    "boxplot = sns.boxplot(data=iris, x='SepalWidthCm', y='Species', color='violet')\n",
    "\n",
    "plt.ylabel('') # Remove the y-axis label (Species) just to make the plot look cleaner\n",
    "plt.xlabel('Sepal Width (cm)') # Add the x-axis label"
   ],
   "id": "910d11feeda84b6"
  },
  {
   "metadata": {},
   "cell_type": "code",
   "outputs": [],
   "execution_count": null,
   "source": [
    "# Let's plot a distribution of the 'PetalWidthCm' values. We can use a kernel density estimate (KDE) plot \n",
    "# for this. A KDE plot is a non-parametric way to estimate the probability density function of a random \n",
    "# variable. It's like a smoothed version of a histogram!\n",
    "\n",
    "sns.set_style('white')\n",
    "sns.set_context('talk')\n",
    "\n",
    "kdeplot = sns.kdeplot(iris, x='PetalWidthCm', hue='Species', fill=True, palette='colorblind')\n",
    "\n",
    "# By passing hue='Species' parameter to the kdeplot function, we color the plot based on the 'Variety' \n",
    "# column. The fill=True parameter fills the area under the curve with color.\n",
    "\n",
    "plt.xlabel('Petal Width (cm)') # Add the x-axis label\n",
    "plt.ylabel('') # Add the y-axis label\n",
    "plt.yticks([]) # Remove the y-axis ticks\n",
    "\n",
    "sns.move_legend(kdeplot, \"upper left\", bbox_to_anchor=(1, 1)) # Move the legend outside the plot"
   ],
   "id": "45fdb4c168260af2"
  },
  {
   "metadata": {},
   "cell_type": "code",
   "outputs": [],
   "execution_count": null,
   "source": [
    "# A pairplot is a great way to explore and visualize relationships between variables in a dataset. \n",
    "# It creates a matrix of axes and shows the relationship for each pair of columns in a DataFrame. \n",
    "# Let's create a pairplot for the iris dataset, coloring the points based on the 'Species' column.\n",
    "\n",
    "# We select the columns we are interested in seeing\n",
    "columns = ['SepalLengthCm', 'SepalWidthCm', 'PetalLengthCm', 'PetalWidthCm', 'Species']\n",
    "iris_selected = iris[columns] # This will return a DataFrame with only the selected columns\n",
    "\n",
    "pairplot = sns.pairplot(iris_selected, hue='Species', palette='colorblind')"
   ],
   "id": "6332219bc1d6b075"
  }
 ],
 "metadata": {
  "kernelspec": {
   "display_name": "Python 3",
   "language": "python",
   "name": "python3"
  },
  "language_info": {
   "codemirror_mode": {
    "name": "ipython",
    "version": 2
   },
   "file_extension": ".py",
   "mimetype": "text/x-python",
   "name": "python",
   "nbconvert_exporter": "python",
   "pygments_lexer": "ipython2",
   "version": "2.7.6"
  }
 },
 "nbformat": 4,
 "nbformat_minor": 5
}
