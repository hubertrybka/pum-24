{
 "cells": [
  {
   "cell_type": "code",
   "execution_count": 1,
   "id": "initial_id",
   "metadata": {},
   "outputs": [],
   "source": [
    "import numpy as np # np is a commonly-used alias for the numpy library"
   ]
  },
  {
   "cell_type": "markdown",
   "id": "8a1d41b59a98e735",
   "metadata": {},
   "source": [
    "## Introduction to NumPy\n",
    "\n",
    "NumPy is a Python library that provides support for large, **multi-dimensional arrays and matrices**, along with a collection of mathematical functions to operate on these arrays. NumPy is your first choice for linear algebra and any kind of scientific computing in Python.\n",
    "\n",
    "<center>\n",
    "<img src=\"imgs/numpy.png\" width=400>\n",
    "</center>"
   ]
  },
  {
   "cell_type": "markdown",
   "id": "c7523eb2d1350166",
   "metadata": {},
   "source": [
    "### Why use NumPy when we have python lists?\n",
    "NumPy arrays are faster and more memory efficient than Python lists. NumPy arrays are also homogeneous: all elements of a NumPy array have the same data type. This allows NumPy to perform operations on arrays much faster than Python lists. In machine learning and data science, where you often work with large datasets, you will quickly find yourself unable to compute anything in reasonable timeframes using only native Python data structures.\n",
    "\n",
    "### Let's compare the performance of NumPy arrays and Python lists on a simple task:"
   ]
  },
  {
   "cell_type": "code",
   "execution_count": 2,
   "id": "4c0ec0267d5146d0",
   "metadata": {},
   "outputs": [
    {
     "name": "stdout",
     "output_type": "stream",
     "text": [
      "First 5 elements of the results:\n",
      "[1.0, 0.5403023058681398, 0.15594369476537437, -0.16055653857469052, -0.4161468365471424]\n",
      "Time elapsed using Python lists: 614 miliseconds\n"
     ]
    }
   ],
   "source": [
    "from math import sqrt, cos \n",
    "import time \n",
    "\n",
    "# With Python lists\n",
    "start_time = time.time() # Record the start time\n",
    "\n",
    "# Create a list of integers up to 1 000 000\n",
    "data = range(1000000)\n",
    "\n",
    "# Perform some operation on the dataset (first take the square root, then find the cosine)\n",
    "list_results = []\n",
    "for x in data:\n",
    "    list_results.append(cos(sqrt(x)))\n",
    "\n",
    "time_elapsed_python = time.time() - start_time # Calculate the time elapsed\n",
    "\n",
    "print(\"First 5 elements of the results:\")\n",
    "print(list_results[:5])\n",
    "print(\"Time elapsed using Python lists:\", round(time_elapsed_python*1000), \"miliseconds\")"
   ]
  },
  {
   "cell_type": "code",
   "execution_count": 3,
   "id": "534d052442fb64bc",
   "metadata": {},
   "outputs": [
    {
     "name": "stdout",
     "output_type": "stream",
     "text": [
      "First 5 elements of the results:\n",
      "[ 1.          0.54030231  0.15594369 -0.16055654 -0.41614684]\n",
      "Time elapsed using NumPy arrays: 104 miliseconds\n",
      "NumPy was 5.88 times faster than Python lists in this task\n"
     ]
    }
   ],
   "source": [
    "# With NumPy arrays\n",
    "\n",
    "start_time = time.time() # Record the start time\n",
    "\n",
    "# Create an array of integers up to 1 000 000\n",
    "data = np.arange(1000000)\n",
    "\n",
    "# Perform some operation on the dataset (first take the square root, then find the cosine)\n",
    "numpy_results = np.cos(np.sqrt(data))\n",
    "\n",
    "time_elapsed_numpy = time.time() - start_time # Calculate the time elapsed\n",
    "\n",
    "print(\"First 5 elements of the results:\")\n",
    "print(numpy_results[:5])\n",
    "print(\"Time elapsed using NumPy arrays:\", round(time_elapsed_numpy*1000), \"miliseconds\")\n",
    "print(\"NumPy was\", round(time_elapsed_python/time_elapsed_numpy, 2), \"times faster than Python lists in this task\")"
   ]
  },
  {
   "cell_type": "markdown",
   "id": "352bd650a1358e40",
   "metadata": {},
   "source": [
    "### Basics of NumPy arrays\n",
    "\n",
    "A one-dimensional array will often be called a **vector**.\n",
    "\n",
    "NumPy arrays are created using the `np.array` function. This function takes an array (such as a Python list) and returns a superfast NumPy array. \n",
    "\n",
    "The elements of a NumPy array are accessed using square brackets and indexed from zero, just like Python lists."
   ]
  },
  {
   "cell_type": "code",
   "execution_count": 4,
   "id": "dd4f348eea08f6de",
   "metadata": {},
   "outputs": [
    {
     "name": "stdout",
     "output_type": "stream",
     "text": [
      "First element of the array: 0.1\n",
      "Third element of the array: 0.4\n",
      "Last element of the array: 0.3\n",
      "Second to fourth elements of the array: [0.2 0.4 0.2]\n"
     ]
    }
   ],
   "source": [
    "some_numbers = [0.1, 0.2, 0.4, 0.2, 0.8, 1.2, 0.7, 0.1, 0.9, 0.3]\n",
    "vector = np.array(some_numbers)\n",
    "\n",
    "print(\"First element of the array:\", vector[0])\n",
    "print(\"Third element of the array:\", vector[2])\n",
    "print(\"Last element of the array:\", vector[-1])\n",
    "print(\"Second to fourth elements of the array:\", vector[1:4])"
   ]
  },
  {
   "cell_type": "code",
   "execution_count": 5,
   "id": "6031d68ddc9b1dd2",
   "metadata": {},
   "outputs": [
    {
     "name": "stdout",
     "output_type": "stream",
     "text": [
      "Zero array: [0. 0. 0. 0. 0.]\n",
      "Ones array: [1. 1. 1. 1. 1.]\n",
      "Random array: [0.52563768 0.6186933  0.08518754 0.93573703 0.61328551]\n",
      "Range array: [ 0  3  6  9 12 15]\n"
     ]
    }
   ],
   "source": [
    "# You can create an array of zeros, ones, random numbers, or a range of numbers using NumPy functions. Those are faster that passing a list to np.array.\n",
    "\n",
    "zero_array = np.zeros(5)\n",
    "print(\"Zero array:\", zero_array)\n",
    "\n",
    "ones_array = np.ones(5)\n",
    "print(\"Ones array:\", ones_array)\n",
    "\n",
    "random_array = np.random.rand(5)\n",
    "print(\"Random array:\", random_array)\n",
    "\n",
    "range_array = np.arange(0, 18, 3) # Start at 0, stop before 18, step by 3\n",
    "print(\"Range array:\", range_array)"
   ]
  },
  {
   "cell_type": "code",
   "execution_count": 8,
   "id": "8b487ae2338da7d0",
   "metadata": {},
   "outputs": [
    {
     "name": "stdout",
     "output_type": "stream",
     "text": [
      "Sum of the arrays: [ 3  4  7 10 16 21 30 40 57 84]\n",
      "Product of the arrays: [   2    3   10   21   55  104  221  399  782 1595]\n"
     ]
    }
   ],
   "source": [
    "# Calculations with NumPy arrays are vectorized, meaning that you can perform operations on entire arrays at once.\n",
    "# Let's create two arrays and add them together.\n",
    "\n",
    "first_array = np.array([1, 1, 2, 3, 5, 8, 13, 21, 34, 55])\n",
    "second_array = np.array([2, 3, 5, 7, 11, 13, 17, 19, 23, 29])\n",
    "\n",
    "sum_array = first_array + second_array\n",
    "print(\"Sum of the arrays:\", sum_array)\n",
    "\n",
    "# You can also multiply, subtract, divide, and apply other mathematical operations to arrays.\n",
    "\n",
    "product_array = first_array * second_array\n",
    "print(\"Product of the arrays:\", product_array)\n",
    "\n",
    "# Note that the above operations do not work on native Python lists. What would happen if you tried to add two Python lists together? \n",
    "#In what way is this different from adding two NumPy arrays?"
   ]
  },
  {
   "cell_type": "code",
   "execution_count": 9,
   "id": "5c8548aaead4ad7a",
   "metadata": {},
   "outputs": [
    {
     "name": "stdout",
     "output_type": "stream",
     "text": [
      "Squared array: [   1    1    4    9   25   64  169  441 1156 3025]\n",
      "Sigmoid array: [0.73105858 0.73105858 0.88079708 0.95257413 0.99330715 0.99966465\n",
      " 0.99999774 1.         1.         1.        ]\n"
     ]
    }
   ],
   "source": [
    "# You can also apply mathematical functions to entire arrays at once.\n",
    "\n",
    "squared_array = first_array ** 2\n",
    "print(\"Squared array:\", squared_array)\n",
    "\n",
    "# You can also apply functions that are not part of the standard Python math library, such as the sigmoid function, \n",
    "#which is often used in machine learning as an activation function. \n",
    "#It flattens the input values to the range (0, 1), which is useful for binary classification tasks. \n",
    "#We will implement the sigmoid function and apply it to an array.\n",
    "\n",
    "def sigmoid(x):\n",
    "    return 1 / (1 + np.exp(-x))\n",
    "\n",
    "sigmoid_array = sigmoid(first_array)\n",
    "print(\"Sigmoid array:\", sigmoid_array)"
   ]
  },
  {
   "cell_type": "markdown",
   "id": "454b49a7d5ccb7b9",
   "metadata": {},
   "source": [
    "### Multi-dimensional arrays\n",
    "\n",
    "A two-dimensional array will often be called a **matrix**. You can create a matrix by passing a list of lists to `np.array`. The outer list represents the **rows of the matrix**, and the inner lists represent the **elements in each row**."
   ]
  },
  {
   "cell_type": "code",
   "execution_count": 10,
   "id": "b3acd6aa34fdf4dc",
   "metadata": {},
   "outputs": [
    {
     "name": "stdout",
     "output_type": "stream",
     "text": [
      "[[1 2 3]\n",
      " [4 5 6]\n",
      " [7 8 9]]\n",
      "First element of the first row: 1\n",
      "Second element of the third row: 8\n",
      "First row: [1 2 3]\n",
      "Second column: [2 5 8]\n"
     ]
    }
   ],
   "source": [
    "matrix = np.array([[1, 2, 3], [4, 5, 6], [7, 8, 9]])\n",
    "print(matrix)\n",
    "\n",
    "# You can access elements in a matrix by providing the row and column indices in square brackets.\n",
    "\n",
    "print(\"First element of the first row:\", matrix[0, 0]) \n",
    "print(\"Second element of the third row:\", matrix[2, 1])\n",
    "\n",
    "# You can also access entire rows or columns using the `:` symbol.\n",
    "\n",
    "print(\"First row:\", matrix[0, :])\n",
    "print(\"Second column:\", matrix[:, 1])"
   ]
  },
  {
   "cell_type": "markdown",
   "id": "2c553b5aa52df685",
   "metadata": {},
   "source": [
    "### Shape of an array\n",
    "\n",
    "Trying to visualise higher-dimensional arrays can be a bit tricky. A 3-dimensional array can be thought of as a cube of numbers, a 4-dimensional array as a cube of cubes of numbers, and so on. A generalisation of a matrix to more than two dimensions is called a **tensor**, and you will soon encounter them in the context of deep learning. A **vector** is a tensor of **rank 1**, a **matrix** is a tensor of **rank 2**, and so on.\n",
    "\n",
    "Instead of trying to wrap one's head around multidimensional hypercubes, it's often easier to think of tensors in terms of their **shape**. The shape of an array tells you how many elements there are in each dimension. You can access the shape of an array using the `shape` attribute.\n",
    "\n",
    "So, for example, a vector of 10 numbers has shape `(10)` a 3x4 matrix has shape `(3, 4)`, a 2x2x2 cube of numbers has shape `(2, 2, 2)`."
   ]
  },
  {
   "cell_type": "code",
   "execution_count": 11,
   "id": "2fa9fa55cfb03bdd",
   "metadata": {},
   "outputs": [
    {
     "name": "stdout",
     "output_type": "stream",
     "text": [
      "Shape of the matrix: (3, 3)\n"
     ]
    }
   ],
   "source": [
    "print(\"Shape of the matrix:\", matrix.shape)"
   ]
  },
  {
   "cell_type": "markdown",
   "id": "e354caffe720080f",
   "metadata": {},
   "source": [
    "### Concatenation (joining) of arrays\n",
    "\n",
    "Let's imagine we have matrix A of shape (3, 3), and we want to add a new row to it. We can do this by creating a new matrix B and using the `np.concatenate` function to join the two matrices. The `axis` parameter specifies the axis along which the arrays will be joined. If `axis=0`, the arrays will be joined along rows, and if `axis=1`, the arrays will be joined along columns. \n",
    "\n",
    "Note that, when adding new rows to a matrix, the number of columns must be the same in order to retain a rectangular shape of a matrix. Similarly, when adding new columns, the number of rows must match. Remember that the dimensions of the arrays you are joining must **match at all but the joining axis**. So we can join an array of shape (3, 3, 2) with an array of shape (1, 3, 2) along axis 0, but not along axis 1."
   ]
  },
  {
   "cell_type": "code",
   "execution_count": 12,
   "id": "e119461e47697862",
   "metadata": {},
   "outputs": [
    {
     "name": "stdout",
     "output_type": "stream",
     "text": [
      "Shape of the matrix A: (3, 3) \n",
      "\n",
      "Shape of the new row: (1, 3)\n",
      "matches along axis 1 (columns), so we can join them along axis 0 (by rows)\n",
      "\n",
      "New matrix:\n",
      "[[ 1  2  3]\n",
      " [ 4  5  6]\n",
      " [ 7  8  9]\n",
      " [10 11 12]]\n",
      "Shape of the new matrix: (4, 3)\n"
     ]
    }
   ],
   "source": [
    "matrix = np.array([[1, 2, 3], [4, 5, 6], [7, 8, 9]])\n",
    "print(\"Shape of the matrix A:\", matrix.shape, '\\n')\n",
    "\n",
    "new_row = np.array([[10, 11, 12]])\n",
    "print(\"Shape of the new row:\", new_row.shape)\n",
    "print(\"matches along axis 1 (columns), so we can join them along axis 0 (by rows)\\n\")\n",
    "\n",
    "new_matrix = np.concatenate([matrix, new_row], axis=0)\n",
    "print(\"New matrix:\")\n",
    "print(new_matrix)\n",
    "print(\"Shape of the new matrix:\", new_matrix.shape)"
   ]
  },
  {
   "cell_type": "code",
   "execution_count": null,
   "id": "41def558-2481-4931-a11b-b3e65cbf1693",
   "metadata": {},
   "outputs": [],
   "source": []
  }
 ],
 "metadata": {
  "kernelspec": {
   "display_name": "Python 3 (ipykernel)",
   "language": "python",
   "name": "python3"
  },
  "language_info": {
   "codemirror_mode": {
    "name": "ipython",
    "version": 3
   },
   "file_extension": ".py",
   "mimetype": "text/x-python",
   "name": "python",
   "nbconvert_exporter": "python",
   "pygments_lexer": "ipython3",
   "version": "3.9.20"
  }
 },
 "nbformat": 4,
 "nbformat_minor": 5
}
