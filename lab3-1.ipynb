{
 "cells": [
  {
   "metadata": {},
   "cell_type": "markdown",
   "source": [
    "# Lab 3-1: Exploratory Data Analysis.\n",
    "---"
   ],
   "id": "31fd3e3cbbf039d0"
  },
  {
   "metadata": {},
   "cell_type": "code",
   "source": [
    "import pandas as pd\n",
    "import seaborn as sns\n",
    "import matplotlib.pyplot as plt  # Not necessary, but can be useful for customizing seaborn plots\n",
    "\n",
    "import warnings # This library is used to ignore warnings, don't worry about it for now\n",
    "warnings.filterwarnings('ignore')"
   ],
   "id": "99cc1cd5a65c5119",
   "outputs": [],
   "execution_count": null
  },
  {
   "metadata": {},
   "cell_type": "markdown",
   "source": [
    "## Introduction to Pandas\n",
    "\n",
    "Pandas is probably the most widely used library for data manipulation and analysis in Python. You will use it a lot during this course. Let's learn some of its functionalities.\n",
    "\n",
    "pandas.DataFrame is a 2-dimensional data structure with columns of potentially different types. You can think of it like an Excel spreadsheet. It is generally the most commonly used pandas object.\n",
    "\n",
    "<br/><br/>\n",
    "<center>\n",
    "<img src=\"imgs/characters.png\" height=\"250\">\n",
    "</center>\n",
    "<br/><br/>\n",
    "\n",
    "\n",
    "Let's imagine we want to create a DataFrame that contains the information about characters from the **critically-acclaimed 2019 game Disco Elysium**. This would be an example to learn how to create a DataFrame from scratch and perform some basic operations on it."
   ],
   "id": "9fa56ef1b833bd5c"
  },
  {
   "metadata": {},
   "cell_type": "code",
   "source": [
    "# First, initialize an empty DataFrame\n",
    "\n",
    "df = pd.DataFrame()\n",
    "\n",
    "# Now, let's create the columns as lists\n",
    "\n",
    "first_names = ['Harry', 'Kim', 'Lawrence', 'Joyce', 'Jules', 'Goracy']\n",
    "last_names =  ['Du Bois', 'Kitsuragi', 'Garte', 'Messier', 'Pidieu', 'Kubek']\n",
    "ages = [44, 43, 28, 48, 68, 39]\n",
    "occupations = ['Cop', 'Cop', 'Bartender', 'Landlady', 'Cop', 'Cook']\n",
    "origins = ['Revachol', 'Revachol', 'Revachol', 'Revachol', 'Unknown', 'Graad']\n",
    "\n",
    "# Let's add the columns to the DataFrame\n",
    "\n",
    "df['first_name'] = first_names\n",
    "df['last_name'] = last_names\n",
    "df['age'] = ages\n",
    "df['occupation'] = occupations\n",
    "df['origin'] = origins\n",
    "\n",
    "# Let's take a peek at the first 5 rows of the DataFrame. Another method, tail(), would show the last 5 rows.\n",
    "df.head()"
   ],
   "id": "765db5b20c8ed44b",
   "outputs": [],
   "execution_count": null
  },
  {
   "metadata": {},
   "cell_type": "code",
   "source": [
    "# We can also create a DataFrame from a dictionary\n",
    "\n",
    "data = {'first_name': first_names, \n",
    "        'last_name': last_names, \n",
    "        'age': ages, \n",
    "        'occupation': occupations,\n",
    "        'origin': origins}\n",
    "\n",
    "df = pd.DataFrame(data)\n",
    "df.head() \n",
    "\n",
    "# It's the same as before"
   ],
   "id": "b6b1c80e17da836c",
   "outputs": [],
   "execution_count": null
  },
  {
   "metadata": {},
   "cell_type": "code",
   "source": [
    "# We can access the columns of the DataFrame using the column name. This will return a pandas Series, \n",
    "# which is a one-dimensional labeled array (similar to a Python dictionary). It is the building block \n",
    "# of pandas DataFrames and contains index values [0, 1, 2, ..., n] as the 'dictionary keys' and our \n",
    "# data as the 'dictionary values'. \n",
    "\n",
    "# You won't need to work with pandas Series objects as often as with DataFrames, but it's good to know \n",
    "# they exist.\n",
    "\n",
    "# Let's see the first names of the characters.\n",
    "\n",
    "first_names = df['first_name']\n",
    "print(f\"What we got is a pandas.Series object: {type(first_names)}\")\n",
    "print(first_names, '\\n')\n",
    "\n",
    "# pandas.Series can be converted to an ordinary Python list using the tolist() method\n",
    "names_list = first_names.tolist()\n",
    "print(f\"Now it's a Python list: {type(names_list)}\")\n",
    "print(names_list)"
   ],
   "id": "ac708702e643ac7d",
   "outputs": [],
   "execution_count": null
  },
  {
   "metadata": {},
   "cell_type": "markdown",
   "source": [
    "### Basic DataFrame operations\n",
    "\n",
    "Let's review some basic operations that can be performed on a pandas DataFrame.  \n",
    "You may wonder how to append a new row to an existing DataFrame. Unfortunately, it is not as straightforward as appending a new element to a Python list, as **DataFrames are not designed to grow in size dynamically**, but you can still do it.\n",
    "\n",
    "<br/><br/>\n",
    "<center>\n",
    "<img src=\"imgs/add-character.png\" height=\"215\">\n",
    "</center>"
   ],
   "id": "4134d2fabd19910e"
  },
  {
   "metadata": {},
   "cell_type": "code",
   "source": [
    "# One approach is to create a new DataFrame containing only the new row and then concatenate \n",
    "# (meaning - join by rows) it with the original DataFrame.\n",
    "\n",
    "# Let's create a dictionary with the information about a new character.\n",
    "new_character = {'first_name': 'Klaasje', 'last_name': 'Amandou', 'age': 28, 'occupation': 'Corporate spy', 'origin': 'Oranje'}\n",
    "\n",
    "# Create a new DataFrame with the new character\n",
    "df_new = pd.DataFrame(new_character, index=[0]) # The index parameter is irrelevant in this case\n",
    "\n",
    "# Concatenate the original DataFrame with the new DataFrame\n",
    "df = pd.concat([df, df_new], ignore_index=True) # The ignore_index parameter resets the index of the resulting DataFrame, and it is set to True to avoid having duplicate indices.\n",
    "df.tail()"
   ],
   "id": "50658980e784e445",
   "outputs": [],
   "execution_count": null
  },
  {
   "metadata": {},
   "cell_type": "raw",
   "source": "",
   "id": "41559650161a65cf"
  },
  {
   "metadata": {},
   "cell_type": "code",
   "source": [
    "# Suppose we only want to see the last names and occupations of the characters. \n",
    "# We can select multiple columns by passing a list of column names to the DataFrame, in square brackets.\n",
    "\n",
    "name_and_occupation = df[['last_name', 'occupation']]\n",
    "name_and_occupation.head()"
   ],
   "id": "873b1ed1f8b6b604",
   "outputs": [],
   "execution_count": null
  },
  {
   "metadata": {},
   "cell_type": "code",
   "source": [
    "# We can also select rows based on a condition. \n",
    "# For example, we can select only the characters who are cops.\n",
    "\n",
    "cops = df['occupation'] == 'Cop' # This will return a boolean mask, or a list of True/False values indicating whether the condition is met for each row\n",
    "cops_only = df[cops]\n",
    "cops_only.head()"
   ],
   "id": "92b3b860d9bfc64c",
   "outputs": [],
   "execution_count": null
  },
  {
   "metadata": {},
   "cell_type": "code",
   "source": [
    "# If we wanted to see some statistics about the dataframe values, we would use the describe() method\n",
    "\n",
    "df['age'].describe()"
   ],
   "id": "a3cd02945ded5529",
   "outputs": [],
   "execution_count": null
  },
  {
   "metadata": {},
   "cell_type": "code",
   "source": [
    "# We can also sort the DataFrame by values in a column. Let's sort the characters by age.\n",
    "\n",
    "df_sorted = df.sort_values(by='age')\n",
    "df_sorted.head()"
   ],
   "id": "2dc87dfb8311805b",
   "outputs": [],
   "execution_count": null
  },
  {
   "metadata": {},
   "cell_type": "code",
   "source": [
    "# As time passes, people usually get older. This does not really happen in the game, as the story \n",
    "# spans only a few days. Nevertheless, let's see what the characters' ages will be in 10 years and \n",
    "# add this information to the DataFrame.\n",
    "\n",
    "df['age_in_10_yrs'] = df['age'] + 10\n",
    "df.head()"
   ],
   "id": "5de51428db78509f",
   "outputs": [],
   "execution_count": null
  },
  {
   "metadata": {},
   "cell_type": "code",
   "source": [
    "# If we wanted to perform a more complex operation on the 'age' column, we could use the apply() method.\n",
    "\n",
    "# You can write a custom function that takes a value from a column, does something with it, and returns \n",
    "# the result. Then, you can apply this function to the column.\n",
    "\n",
    "def describe_age(x):\n",
    "    if x < 30:\n",
    "        return 'Young'\n",
    "    elif x < 60:\n",
    "        return 'Middle-aged'\n",
    "    else:\n",
    "        return 'Elderly'\n",
    "\n",
    "df['age_categorical'] = df['age'].apply(describe_age)\n",
    "df.head()"
   ],
   "id": "fbb72a7fc61147a4",
   "outputs": [],
   "execution_count": null
  },
  {
   "metadata": {},
   "cell_type": "markdown",
   "source": [
    "### Iterating over rows in a DataFrame (don't do it!)\n",
    "\n",
    "When working with pandas DataFrames it is advised **not to use 'for' loops to iterate over rows**. In contrast to Python lists, pandas DataFrames are optimized for vectorized operations. This means that you can apply operations to entire columns at once, which is much faster than iterating over rows. If you find yourself iterating over rows in a DataFrame, you are probably doing something wrong. There is almost always a better, more efficient way to do it using pandas methods.\n",
    "\n",
    "Nevertheless, be aware of the iterrows() method. Here is an example of how it could be used:"
   ],
   "id": "1ddbded2c40f175a"
  },
  {
   "metadata": {},
   "cell_type": "code",
   "source": [
    "print('My favorite characters of Disco Elysium:')\n",
    "for index, row in df.iterrows():\n",
    "    first_name = row['first_name']\n",
    "    last_name = row['last_name']\n",
    "    job = row['occupation']\n",
    "    print(f'{index}: {first_name} {last_name}, who is a {job}')"
   ],
   "id": "83304accda11008c",
   "outputs": [],
   "execution_count": null
  },
  {
   "metadata": {},
   "cell_type": "markdown",
   "source": [
    "### Get familiar with Pandas documentation!\n",
    "\n",
    "In this notebook we explored only a fraction of pandas.DataFrame methods. You should get familiar with [Pandas documentation](https://pandas.pydata.org/docs/reference/frame.html) and play around with the methods to get a better understanding of what you can do with pandas. Go ahead and try some of the methods on the DataFrame we created in this notebook.\n",
    "\n",
    "***"
   ],
   "id": "849a222354c78519"
  },
  {
   "metadata": {},
   "cell_type": "markdown",
   "source": [
    "## Introduction to Seaborn\n",
    "\n",
    "Seaborn is a Python data visualization library based on matplotlib. It provides a high-level interface for drawing attractive and informative statistical graphics. Seaborn is built on top of matplotlib and closely integrated with Pandas data structures.\n",
    "\n",
    "For this example we will use an orange quality dataset. This dataset contains information about the quality of some oranges, including the variety, weight, size, and sweetness of the oranges. Let's load the dataset and take a look at the first few rows."
   ],
   "id": "f0bc886fcb7018dd"
  },
  {
   "metadata": {},
   "cell_type": "code",
   "source": [
    "df = pd.read_csv('data/orange_quality.csv')\n",
    "df.head()"
   ],
   "id": "d7bc9a91f0138795",
   "outputs": [],
   "execution_count": null
  },
  {
   "metadata": {},
   "cell_type": "code",
   "source": [
    "# Let's see all the orange varieties present in the dataset. We can use the unique() method to get the unique\n",
    "# values in a column.\n",
    "\n",
    "varieties = df['Variety'].unique()\n",
    "print(varieties)"
   ],
   "id": "1a7ef11da29f980c",
   "outputs": [],
   "execution_count": null
  },
  {
   "metadata": {},
   "cell_type": "code",
   "source": [
    "# Suppose we are only interested in oranges that are of variety 'Temple', 'Satsuma Mandarin' or 'Moro (Blood)'.\n",
    "# We can filter the DataFrame to only include these varieties.\n",
    "\n",
    "rows = df['Variety'].isin(['Temple', 'Satsuma Mandarin', 'Moro (Blood)']) # This will return a boolean mask, or a list of True/False values indicating whether the condition is met for each row\n",
    "\n",
    "df_filtered = df[rows] # We pass the boolean mask to the DataFrame to filter the rows\n",
    "df_filtered.head() # Now we have only the rows with the selected varieties"
   ],
   "id": "fc369953588cc2bf",
   "outputs": [],
   "execution_count": null
  },
  {
   "metadata": {},
   "cell_type": "code",
   "source": [
    "# Let's see how the time of harvest correlates with the weight of oranges. We will plot the relationship \n",
    "# between 'HarvestTime (days)' and 'Weight (g)' columns. \n",
    "\n",
    "# We can use a scatter plot for this and color the points based on the 'Variety' column - it can be done \n",
    "# by passing hue='Variety' parameter to the scatterplot function.\n",
    "\n",
    "sns.set_style('white') # Try 'darkgrid', 'whitegrid', 'dark', 'white', 'ticks'\n",
    "sns.set_context('talk') # Try 'paper', 'poster', 'notebook' and see how it changes the looks\n",
    "\n",
    "scatterplot = sns.scatterplot(data=df_filtered, x='HarvestTime (days)', y='Weight (g)', hue='Variety')\n",
    "\n",
    "sns.move_legend(scatterplot, \"upper left\", bbox_to_anchor=(1, 1)) # Move the legend outside the plot."
   ],
   "id": "cf2201f0e8319bce",
   "outputs": [],
   "execution_count": null
  },
  {
   "metadata": {},
   "cell_type": "code",
   "source": [
    "# A boxplot is a standardized way of displaying the distribution of data based on a five-number summary: \n",
    "# minimum, first quartile, median, third quartile, and maximum. Let's plot the 'Brix (Sweetness)' values \n",
    "# using a boxplot.\n",
    "\n",
    "sns.set_style('white')\n",
    "sns.set_context('talk')\n",
    "\n",
    "boxplot = sns.boxplot(data=df_filtered, x='Brix (Sweetness)', y='Variety', palette='colorblind')\n",
    "plt.ylabel('') # Remove the y-axis label (Variety) just to make the plot look cleaner"
   ],
   "id": "692d2cc98bc2cec4",
   "outputs": [],
   "execution_count": null
  },
  {
   "metadata": {},
   "cell_type": "code",
   "source": [
    "# Let's plot a distribution of the 'Size (cm)' values. We can use a kernel density estimate (KDE) plot \n",
    "# for this. A KDE plot is a non-parametric way to estimate the probability density function of a random \n",
    "# variable. It's like a smoothed version of a histogram.\n",
    "\n",
    "sns.set_style('white')\n",
    "sns.set_context('talk')\n",
    "\n",
    "kdeplot = sns.kdeplot(df_filtered, x='Size (cm)', hue='Variety', fill=True)\n",
    "\n",
    "# By passing hue='Variety' parameter to the kdeplot function, we color the plot based on the 'Variety' \n",
    "# column. The fill=True parameter fills the area under the curve with color.\n",
    "\n",
    "sns.move_legend(kdeplot, \"upper left\", bbox_to_anchor=(1, 1)) # Move the legend outside the plot"
   ],
   "id": "49703adc9259f27f",
   "outputs": [],
   "execution_count": null
  },
  {
   "metadata": {},
   "cell_type": "code",
   "source": [
    "# A pairplot is a great way to explore and visualize relationships between variables in a dataset. \n",
    "# It creates a matrix of axes and shows the relationship for each pair of columns in a DataFrame. \n",
    "# Let's create a pairplot for the orange dataset, with a focus on 'Size (cm)', 'Weight (g)' and 'pH (Acidity)' \n",
    "# columns. We will also color the points based on  the 'Variety' column.\n",
    "\n",
    "# We select the columns we are interested in seeing\n",
    "df_selected = df_filtered[['Size (cm)', 'Weight (g)', 'pH (Acidity)', 'Variety']]\n",
    "\n",
    "pairplot = sns.pairplot(df_selected, hue=\"Variety\")"
   ],
   "id": "672b2cef387c4ef2",
   "outputs": [],
   "execution_count": null
  },
  {
   "metadata": {},
   "cell_type": "markdown",
   "source": [
    "## Exercise 1: Pokemon stats (3 points)\n",
    "\n",
    "Feel free to work with [pandas documentation](https://pandas.pydata.org/docs/reference/frame.html) and [seaborn documentation](https://seaborn.pydata.org/tutorial.html) to complete the following tasks.\n",
    "\n",
    "\n",
    "In this exercise we will work with a dataset containing the stats of different pokemons. The dataset is stored in a CSV file `data/pokemon_data.csv`.\n",
    "\n",
    "<br/>\n",
    "<center>\n",
    "<img src=\"imgs/pokemon-types.png\" height=\"250\">\n",
    "</center>\n",
    "<br/>\n",
    "\n",
    "1. Load the dataset into a DataFrame and take a look at the first few rows. How many different types of pokemons are there in the dataset? (look for them in column 'type1'). List the types.\n",
    "2. Prepare a pandas DataFrame describing the number of pokemons for each pokemon type (column 'type1'). The first column should contain the types and the second column should contain the number of pokemons of that type. Hint: There is a pandas.DataFrame method that does exactly this in one line of code.\n",
    "3. Plot a bar chart showing the number of pokemons for ten most common pokemon types. The x-axis should contain the pokemon types and the y-axis should contain the number of pokemons.\n",
    "4. Prepare a boxplot showing the distribution of 'attack' values for ten most common pokemon types.\n",
    "5. Prepare a pairplot showing the relationship between 'attack', 'hp' and 'catch_rate' columns for 'Rock', 'Dragon' and 'Bug' pokemon types. Color the points based on the type. Apply a custom color palette to the plot, assigning an appropriate color to each type (see the image above). You will probably want to read the [pairplot documentation](https://seaborn.pydata.org/generated/seaborn.pairplot.html) and look for for palette parameter."
   ],
   "id": "93d6fd6258c7a5d0"
  },
  {
   "metadata": {},
   "cell_type": "code",
   "source": "...",
   "id": "e23637b71476448c",
   "outputs": [],
   "execution_count": null
  }
 ],
 "metadata": {
  "kernelspec": {
   "display_name": "Python 3",
   "language": "python",
   "name": "python3"
  },
  "language_info": {
   "codemirror_mode": {
    "name": "ipython",
    "version": 2
   },
   "file_extension": ".py",
   "mimetype": "text/x-python",
   "name": "python",
   "nbconvert_exporter": "python",
   "pygments_lexer": "ipython2",
   "version": "2.7.6"
  }
 },
 "nbformat": 4,
 "nbformat_minor": 5
}
