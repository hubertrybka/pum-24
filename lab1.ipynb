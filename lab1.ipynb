{
 "cells": [
  {
   "metadata": {},
   "cell_type": "markdown",
   "source": [
    "# Lab 1: Python basics. Conway's Game of Life.\n",
    "---"
   ],
   "id": "2fa74fdef97c4cbb"
  },
  {
   "metadata": {},
   "cell_type": "markdown",
   "source": [
    "## Reading - *Automate the Boring Stuff with Python*\n",
    "\n",
    "The Python textbook we will be using during our course will be *Automate the Boring Stuff with Python* by Al Sweigart. The book is available online for free at:\n",
    "\n",
    "https://automatetheboringstuff.com/\n",
    "\n",
    "The website is structured in such a way that you can quickly find and study the topic you are interested in. You can use it as a reference during the course, having it open in a separate tab while you are working on your assignments. All the exercises below can be solved using the knowledge from the first few chapters of the book."
   ],
   "id": "82633d890dc99ab5"
  },
  {
   "metadata": {},
   "cell_type": "markdown",
   "source": [
    "## Exercise 1: Python functions (2 points)\n",
    "In the code cell below, write Python code to solve the following tasks. For some of them, you may need to use functions from the [math module](https://docs.python.org/3/library/math.html) of the standard Python library. Make sure to test your functions by calling them with different input values.\n",
    "\n",
    "1. Write a function `get_min_max()` that takes a list of floats as input and returns a tuple with the **minimum** and the **maximum** value from the list.\n",
    "2. Write a function `get_mean()` that takes a list of floats, and a parameter `geometric`. If the parameter is not specified, or set to False, the function should return the arimetic mean of numbers in the list. The arithmetic mean $\\bar{x}$ of $n$ observations is defined as: $$\\bar{x} = \\frac{1}{n} \\sum_{i=1}^{n} x_i$$\n",
    "\n",
    "    If the parameter `geometric` is set to True, the function should return the geometric mean of the numbers in the list. The geometric mean $G$ of $n$ observations is defined as:\n",
    "   $$ G = \\sqrt[n]{x_1 \\cdot x_2 \\cdot ... \\cdot x_n} = exp(\\frac{1}{n} \\sum_{i=1}^{n} log(x_i))$$\n",
    "\n",
    "3. Write a function `get_median()` that takes a list of numbers (floats) as input and returns **the median** of the numbers. If the sample has an odd number of numbers, the median is the middle value. If the sample has an even number of numbers, the median is the arithmetic mean of the two middle values."
   ],
   "id": "db742ddfad790f84"
  },
  {
   "metadata": {},
   "cell_type": "markdown",
   "source": [
    "## Exercise 2: DNA transcription and translation (2 points)\n",
    "\n",
    "1. Write a function that takes a DNA sequence (string) as input and returns a complementary RNA sequence (string)."
   ],
   "id": "a6c73608930b5bbf"
  },
  {
   "metadata": {},
   "cell_type": "code",
   "source": [
    "def transcribe(dna): # return a complementary RNA sequence transcribed from the given DNA sequence\n",
    "    ..."
   ],
   "id": "7c45999756d343de",
   "outputs": [],
   "execution_count": null
  },
  {
   "metadata": {},
   "cell_type": "code",
   "source": [
    "# Test your function\n",
    "dna = \"CTTCACTTGTTATGCCCAGACATGGCAAAACTAATGACCAAGTAATGAGGGAATAGTAAT\"\n",
    "rna = transcribe(dna)\n",
    "print(rna)"
   ],
   "id": "1fe19d962e31e408",
   "outputs": [],
   "execution_count": null
  },
  {
   "metadata": {},
   "cell_type": "code",
   "source": [
    "# Automatic testing to make sure the function you wrote does what is expected\n",
    "from tests.test_lab1 import test_transcription\n",
    "test_transcription(transcribe)"
   ],
   "id": "887b076b0fd62718",
   "outputs": [],
   "execution_count": null
  },
  {
   "metadata": {},
   "cell_type": "markdown",
   "source": [
    "2. Write a function that takes an RNA sequence (string) as input and returns the corresponding sequence of one-letter aminoacid codes (string). Assume that the first three letters of an RNA sequence always correspond to the first codon. The translation should terminate upon encountering the STOP codon ('UAA', 'UAG', 'UGA'). \n",
    "\n",
    "A Pyhton dictionary with the mapping between RNA codons and aminoacids (singe letter codes) is given below:"
   ],
   "id": "b1e71ad42fdaa072"
  },
  {
   "metadata": {},
   "cell_type": "code",
   "source": [
    "import json # a library needed to load the codon table from a JSON file\n",
    "\n",
    "# load the codon table into a Python dictionary\n",
    "with open(\"data/codontab.json\") as f:\n",
    "    codon_table = json.load(f)\n",
    "\n",
    "# take a look at the codon table (it's a normal Python dictionary):\n",
    "print(codon_table)\n",
    "print('Aminoacid coded by CAU:', codon_table[\"CAU\"])"
   ],
   "id": "8aba8ea157f1a463",
   "outputs": [],
   "execution_count": null
  },
  {
   "metadata": {},
   "cell_type": "code",
   "source": [
    "def translate(rna): # return the protein sequence translated from the given RNA sequence\n",
    "    ..."
   ],
   "id": "de49a6f3e002029c",
   "outputs": [],
   "execution_count": null
  },
  {
   "metadata": {},
   "cell_type": "markdown",
   "source": "",
   "id": "fb36de00bb3492bc"
  },
  {
   "metadata": {},
   "cell_type": "code",
   "source": [
    "# Automatic testing\n",
    "from tests.test_lab1 import test_translation\n",
    "test_translation(translate)"
   ],
   "id": "64ee317505f0572f",
   "outputs": [],
   "execution_count": null
  },
  {
   "metadata": {},
   "cell_type": "markdown",
   "source": [
    "## Excercise 3: Molecular formula from SMILES (2 points) \n",
    "\n",
    "SMILES (Simplified Molecular Input Line Entry System) is a notation that allows a user to represent chemical structures in a way that can be typed on a keyboard. The SMILES string is a sequence of characters where each character represents an atom or a structural feature. The SMILES notation is used in cheminformatics to store and search for chemical structures in databases.\n",
    "\n",
    "1. Write a function that takes a SMILES string as input and returns the molecular formula of the compound. The function should loop over characters of the SMILES string and increment the count of each element in the molecule. The counts should be stored in a dictionary. This dictionary should start empty and a new entry should be added each time the first occurrence of an element is observed. The function should output a string of such format:\n",
    "    *   The elements are represented by capital letters, and if an element is followed by a number, the number indicates the number of atoms of that element in the molecule. If only one atom of an element is present, the number is omitted.\n",
    "    *   Do not count hydrogen atoms, as they are usually absent in a SMILES string. For example, the SMILES string representing thiamine molecule `OCCc1c(C)[n+](cs1)Cc2cnc(C)nc2N ` should return \"C12N4OS\".\n",
    "    *   The order of atoms in the molecular formula should follow the Hill's system: carbon first, then all other elements in alphabetical order."
   ],
   "id": "f98d9e887fe2d926"
  },
  {
   "metadata": {},
   "cell_type": "code",
   "source": [
    "def get_molecular_formula(smiles): # return the molecular formula of the compound\n",
    "    elements = {}\n",
    "    ..."
   ],
   "id": "6af46cf53343dfee",
   "outputs": [],
   "execution_count": null
  },
  {
   "metadata": {},
   "cell_type": "code",
   "source": [
    "# Test your function\n",
    "smiles = \"C1C(=O)NC2=C(C=C(C=C2)[N+](=O)[O-])C(=N1)C3=CC=CC=C3Cl\" # Clonazepam, should return \"C15ClN3O3\"\n",
    "print(get_molecular_formula(smiles))"
   ],
   "id": "d37ea9bb91e8089a",
   "outputs": [],
   "execution_count": null
  },
  {
   "metadata": {},
   "cell_type": "code",
   "source": [
    "# Automatic testing\n",
    "from tests.test_lab1 import test_molecular_formula\n",
    "test_molecular_formula(get_molecular_formula)"
   ],
   "id": "f716f943be439fb5",
   "outputs": [],
   "execution_count": null
  },
  {
   "metadata": {},
   "cell_type": "markdown",
   "source": [
    "# Conway's Game of Life\n",
    "\n",
    "<center>\n",
    "<img src=\"imgs/john-conway.jpg\" width=\"470\"/>\n",
    "</center>\n",
    "\n",
    "</br>\n",
    "\n",
    "**Game of Life** is a cellular automaton devised by the British mathematician John Horton Conway in 1970. If you happen not to have heard of the Game of Life before, try it out yourself at [this website](https://playgameoflife.com/) and see what it is about. It's not a *game* in the traditional sense, but rather a simulation \n",
    "\n",
    "The universe of the Game of Life is an infinite, two-dimensional grid of squares (cells), each of which is in one of two possible states, live or dead, (or 1 and 0). At each step in time, some cells are born, some die, and some stay the same, according to the following rules:\n",
    "\n",
    "1. A live cell with **fewer than two** live neighbors **dies** of underpopulation.\n",
    "2. A live cell with **two or three** live neighbors **lives** on to the next generation.\n",
    "3. A live cell with **more than three** live neighbors **dies** of overpopulation.\n",
    "\n",
    "<center>\n",
    "<img src=\"imgs/glider.png\" width=\"600\"/>\n",
    "</center>\n",
    "\n",
    "</br>\n",
    "\n",
    "The user is supposed to draw some initial configuration of live and dead cells and watch how the system evolves with time. Not all initial configurations of cells will lead to interesting results. Some will die out in a few time steps, but some will evolve into complex shapes with really cool properties. For example, the \"Glider\" is a configuration that moves across the grid. The image above shows consecutive time steps of a glider, with black squares denoting live cells. Note that after four steps the whole configuration has shifted one cell to the right and one cell down.\n",
    "\n"
   ],
   "id": "3fb7cffc261ee59f"
  },
  {
   "metadata": {},
   "cell_type": "markdown",
   "source": [
    "## Excercise 4 (4 points)\n",
    "1. Implement the Game of Life's board as a table of numbers. Live cells should be represented by 1 and dead cells by 0.  Write a function that takes a number $n$ and returns an empty board (a board of dead cells only) of size $n \\times n$.\n",
    "2. Write a function that takes a board and prints it to the console. The output should look something like this, but you can use any other characters to represent dead and live cells, as long as it is clear which is which:\n",
    "```\n",
    ". . . . .\n",
    ". . X . .\n",
    "X . X . .\n",
    ". X X . .\n",
    ". . . . .\n",
    "```"
   ],
   "id": "259f4c0ac5dd2f46"
  },
  {
   "metadata": {},
   "cell_type": "code",
   "source": [
    "def get_empty_board(n): # return n x n table of zeros\n",
    "    ...\n",
    "\n",
    "def print_board(grid): # print the table\n",
    "    ..."
   ],
   "id": "62a61fbafba2189e",
   "outputs": [],
   "execution_count": null
  },
  {
   "metadata": {},
   "cell_type": "code",
   "source": [
    "# Test your functions\n",
    "board = get_empty_board(20)\n",
    "print_board(board)"
   ],
   "id": "ed16bde6adbe21ef",
   "outputs": [],
   "execution_count": null
  },
  {
   "metadata": {},
   "cell_type": "markdown",
   "source": "3. Write a function that takes a number $n$ and returns a board of size $n \\times n$ filled randomly with live and dead cells. You can use the `random` module from Python's standard library. The probability of a cell being alive should be $0.2$.",
   "id": "4fd09ba446153b4d"
  },
  {
   "metadata": {
    "ExecuteTime": {
     "end_time": "2024-09-03T13:10:44.520858Z",
     "start_time": "2024-09-03T13:10:44.516474Z"
    }
   },
   "cell_type": "code",
   "source": [
    "import random\n",
    "random_number = random.random() # this is how you draw a random number between 0 and 1\n",
    "\n",
    "def get_random_board(n): # return n x n table where each cell is alive with probability 0.2\n",
    "    ..."
   ],
   "id": "b298fdd26bf63dee",
   "outputs": [],
   "execution_count": 1
  },
  {
   "metadata": {},
   "cell_type": "code",
   "source": [
    "random_board = get_random_board(10)\n",
    "print_board(random_board)"
   ],
   "id": "54d2337dd3989a11",
   "outputs": [],
   "execution_count": null
  },
  {
   "metadata": {},
   "cell_type": "markdown",
   "source": "4. Write a function which takes a board and puts a glider in the top left corner of the board. You can assume that the board is at least 3x3. You can choose the first glider configuration from the image above as the initial state.",
   "id": "9fcf8a620826c240"
  },
  {
   "metadata": {},
   "cell_type": "code",
   "source": [
    "def add_glider(board): # return a grid with a glider\n",
    "    ..."
   ],
   "id": "1c8a6631f5b583d0",
   "outputs": [],
   "execution_count": null
  },
  {
   "metadata": {},
   "cell_type": "code",
   "source": [
    "# Test your function\n",
    "board = get_empty_board(20)\n",
    "board_glider = add_glider(board)\n",
    "print_board(board_glider)"
   ],
   "id": "46c50ac0fb6d0b22",
   "outputs": [],
   "execution_count": null
  },
  {
   "metadata": {},
   "cell_type": "markdown",
   "source": [
    "## Excercise 5 (2 points)\n",
    "1. Write a function that takes a board and coordinates of a cell, then it returns the number of live neighbors of the cell at that position. You can test your function on the glider board. \n",
    "\n",
    "(!) **Please note that special care should be taken when counting the neighbors of cells at the edge of the board** - for simplicity, we will assume that the board is finite and that cells at the edge have fewer neighbors than cells in the middle of the board (the cells outside our predefined board are always dead)."
   ],
   "id": "67e973d85bd739af"
  },
  {
   "metadata": {},
   "cell_type": "code",
   "source": [
    "def count_live_neighbors(board, x, y): # return the number of live neighbors of cell x, y\n",
    "    ..."
   ],
   "id": "8191ce8b9552afab",
   "outputs": [],
   "execution_count": null
  },
  {
   "metadata": {},
   "cell_type": "code",
   "source": [
    "# Test your function\n",
    "count_live_neighbors(board_glider, 1, 1)"
   ],
   "id": "2c7ea91d7488b97a",
   "outputs": [],
   "execution_count": null
  },
  {
   "metadata": {},
   "cell_type": "markdown",
   "source": "2. Write a function that takes a board and returns new board at the next timestep according to the rules of the Game of Life. This function should not modify the original board, but return a new one. This is the final component for a working Game of Life in Python.",
   "id": "e8b31c5651cc5339"
  },
  {
   "metadata": {},
   "cell_type": "code",
   "source": [
    "def step(board): # return board at the next timestep\n",
    "    ..."
   ],
   "id": "2e84c93ed636714",
   "outputs": [],
   "execution_count": null
  },
  {
   "metadata": {},
   "cell_type": "code",
   "source": [
    "# Test your function\n",
    "print(\"Initial state:\")\n",
    "print_board(board_glider)\n",
    "next_step = step(board_glider)\n",
    "\n",
    "print(\"1st step:\")\n",
    "print_board(next_step)"
   ],
   "id": "33d0b1dfd4b56bfd",
   "outputs": [],
   "execution_count": null
  },
  {
   "metadata": {},
   "cell_type": "markdown",
   "source": [
    "### *Animate the Game of Life!\n",
    "\n",
    "If you successfully implemented the Game of Life, you can try to put it in a loop and animate it. The loop should print the board, wait for a second, generate the next step, and repeat. You can use the `time` module from Python's standard library to wait for a second between each step. IPython has a built-in function `clear_output` that can be used to clear the output of a cell in a Jupyter notebook - so you can print the board in the same cell, and it will look like it is being updated.\n",
    "\n",
    "The code below should animate a glider moving across the board if you implemented everything correctly! **Make sure to see how a random board evolves as well - it can be quite mesmerizing!**"
   ],
   "id": "7cfad837e1ddbdf9"
  },
  {
   "metadata": {},
   "cell_type": "code",
   "source": [
    "from IPython.display import clear_output\n",
    "import time\n",
    "\n",
    "board = get_empty_board(20)\n",
    "board = add_glider(board)\n",
    "\n",
    "start_time = time.time()\n",
    "while time.time() < start_time + 10: # run for 10 seconds\n",
    "    clear_output(wait=False) # clear the output\n",
    "    print_board(board) # print the board\n",
    "    time.sleep(1) # wait for 1 second\n",
    "    new_board = step(board) # generate the next step\n",
    "    board = new_board # update the board"
   ],
   "id": "4131f5d8689ad699",
   "outputs": [],
   "execution_count": null
  }
 ],
 "metadata": {
  "kernelspec": {
   "display_name": "Python 3",
   "language": "python",
   "name": "python3"
  },
  "language_info": {
   "codemirror_mode": {
    "name": "ipython",
    "version": 2
   },
   "file_extension": ".py",
   "mimetype": "text/x-python",
   "name": "python",
   "nbconvert_exporter": "python",
   "pygments_lexer": "ipython2",
   "version": "2.7.6"
  }
 },
 "nbformat": 4,
 "nbformat_minor": 5
}
